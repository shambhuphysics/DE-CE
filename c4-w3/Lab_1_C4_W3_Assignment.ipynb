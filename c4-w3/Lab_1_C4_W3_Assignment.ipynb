{
  "cells": [
    {
      "cell_type": "markdown",
      "source": [
        "# Week 3 Assignment:<br>Data Transformations with Apache Spark\n",
        "\n",
        "In this assignment, you will configure the EMR Studio environment to prepare for hands-on data transformation tasks using Apache Spark.\n",
        "Once the setup is complete, you’ll open and work within the notebook to explore Spark's powerful data processing capabilities.\n",
        "\n",
        "# Table of Contents\n",
        "- [1 - Setup the lab](#1)\n",
        "- [2 - Lab content: Data Transformations with Apache Spark](#2)\n",
        "\n",
        "---\n",
        "\n",
        "<div id='1'/>\n",
        "\n",
        "## 1 - Setup the lab\n",
        "\n",
        "1.1. To access the AWS console, run the following command in the terminal.\n",
        "If necessary, open a new terminal by selecting Terminal > New Terminal from the menu.\n",
        "\n",
        "```bash\n",
        "cat ../.aws/aws_console_url\n",
        "```\n",
        "Open the link in the new browser window.\n",
        "\n",
        "*Note*: For security reasons, the URL to access the AWS console will expire every 15 minutes,\n",
        "but any AWS resources you created will remain available for the 2 hour period.\n",
        "If you need to access the console after 15 minutes, please rerun the command to obtain a new active link.\n",
        "\n",
        "*Note:* If you see the window like in the following printscreen, click on **logout** link,\n",
        "close the window and click on console link again.\n",
        "\n",
        "![AWSLogout](https://github.com/shambhuphysics/DE-CE/blob/main/c4-w3/images/AWSLogout.png?raw=1)\n",
        "\n",
        "1.2. Go to **EMR**.\n",
        "\n",
        "![image alt ><](https://github.com/shambhuphysics/DE-CE/blob/main/c4-w3/images/EMR.png?raw=1)\n",
        "    \n",
        "1.3. On the left panel, click on **Studios**\n",
        "\n",
        "![image alt ><](https://github.com/shambhuphysics/DE-CE/blob/main/c4-w3/images/EMR_Studios.png?raw=1)\n",
        "    \n",
        "1.4. You will see a studio named `de-c4w3a1-studio-emr`, click on the **Studio Access URL**.\n",
        "\n",
        "![image alt ><](https://github.com/shambhuphysics/DE-CE/blob/main/c4-w3/images/EMR_Studios_URL.png?raw=1)\n",
        "   \n",
        "Another tab should have open, go to it.\n",
        "   \n",
        "1.5. In the **EMR Studio** click on **Workspaces** button on the left panel.\n",
        "\n",
        "![image alt ><](https://github.com/shambhuphysics/DE-CE/blob/main/c4-w3/images/EMR_Studios_Workspace.png?raw=1)\n",
        "   \n",
        "1.6. Click on ![](https://github.com/shambhuphysics/DE-CE/blob/main/c4-w3/images/EMR_Studios_Workspace_Create.png?raw=1) button to create a new workspace named `de-c4w3a1-studio-workspace`. The description you can leave blank. In the workspace storage you will see by default your bucket name and the `emr-studio` folder. You do not need to change that.\n",
        "   \n",
        "![image alt ><](https://github.com/shambhuphysics/DE-CE/blob/main/c4-w3/images/EMR_Workspace_Storage.png?raw=1)\n",
        "   \n",
        "Click on ![](https://github.com/shambhuphysics/DE-CE/blob/main/c4-w3/images/EMR_Studios_Workspace_Create.png?raw=1) button.\n",
        "   \n",
        "*Note:* You may need to allow pop ups in your browser at this step, but you don't need to go to the new tab yet.\n",
        "\n",
        "1.7. Workspaces do not attach to a cluster by default so when it appears with a ready status you will actually need to stop it. To do so, select your workspace, click on **Action** and then on **Stop**.\n",
        "\n",
        "![image alt ><](https://github.com/shambhuphysics/DE-CE/blob/main/c4-w3/images/Workspace_Stop.png?raw=1)\n",
        "    \n",
        "Click on refresh button ![](https://github.com/shambhuphysics/DE-CE/blob/main/c4-w3/images/Refresh.png?raw=1) until you see that the workspace status is ![](https://github.com/shambhuphysics/DE-CE/blob/main/c4-w3/images/Status_Idle.png?raw=1). Then, select the workspace again, click on **Launch Workspace** and then in **Launch with Options**. A pop up windows will appear. There, select the **Launch in Jupyter** option and select your cluster.\n",
        "\n",
        "![image alt ><](https://github.com/shambhuphysics/DE-CE/blob/main/c4-w3/images/Workspace_Launch_Options.png?raw=1)\n",
        "    \n",
        "The security groups will be filled by default. Click on ![](https://github.com/shambhuphysics/DE-CE/blob/main/c4-w3/images/Launch_Workspace.png?raw=1). Wait until the workspace is ready again with the attached cluster:\n",
        "\n",
        "![image alt ><](https://github.com/shambhuphysics/DE-CE/blob/main/c4-w3/images/Workspace_Ready.png?raw=1)\n",
        "\n",
        "*Note:* If you've got a message indicating that your browser does not allow pop ups, make sure to allow them or click again in the workspace name. If the link (from the workspace name) points to _.../workspace/**lab**?username=<user_id>=<user_name>_, make sure to change it to  _.../workspace/**tree**?username=<user_id>=<user_name>_.\n",
        "        \n",
        "1.8.  In the AWS console, go to **CloudShell**.\n",
        "\n",
        "![image alt ><](https://github.com/shambhuphysics/DE-CE/blob/main/c4-w3/images/CloudShell.png?raw=1)\n",
        "\n",
        "1.9. Use the following two command lines to copy the `C4_W3_Assignment.ipynb` notebook to your own S3 bucket so it can be available in the EMR Studio Workspace:\n",
        "\n",
        "```bash\n",
        "export ACCOUNT_ID=$(aws sts get-caller-identity --query Account --output text)\n",
        "````\n",
        "    \n",
        "```bash\n",
        "aws s3 cp s3://dlai-data-engineering/labs/c4w3a1-177787-vocapi/C4_W3_Assignment.ipynb s3://de-c4w3a1-$ACCOUNT_ID-us-east-1-emr-bucket/emr-studio/$(aws s3 ls s3://de-c4w3a1-$ACCOUNT_ID-us-east-1-emr-bucket/emr-studio --recursive | grep -o \"e-[^/]*\" | head -n 1)/C4_W3_Assignment.ipynb\n",
        "```\n",
        "    \n",
        "You should see the following output before continuing:\n",
        "\n",
        "![image alt ><](https://github.com/shambhuphysics/DE-CE/blob/main/c4-w3/images/CloudShell_S3_Copy.png?raw=1)\n",
        "\n",
        "1.10. Open the notebook `C4_W3_Assignment.ipynb` for this lab from the window popped up at the end of step 1.7. On the top-right corner of the opened notebook, select `PySpark` as kernel: go to **Kernel** in the menu bar, click on **Change kernel** and select **Pyspark**.\n",
        "\n",
        "![image alt ><](https://github.com/shambhuphysics/DE-CE/blob/main/c4-w3/images/Change_Kernel.png?raw=1)\n",
        "    \n",
        "<div id='2'/>\n",
        "\n",
        "## 2 - Lab content: Data Transformations with Apache Spark\n",
        "\n",
        "2.1. Follow the instructions provided in the notebook *C4_W3_Assignment.ipynb* to complete the assignment.\n"
      ],
      "metadata": {
        "id": "If4NjieviPjt"
      }
    },
    {
      "cell_type": "code",
      "source": [],
      "metadata": {
        "id": "R_IIHDmMiO00"
      },
      "execution_count": null,
      "outputs": []
    },
    {
      "cell_type": "code",
      "source": [],
      "metadata": {
        "id": "CFaz1xoGiOyQ"
      },
      "execution_count": null,
      "outputs": []
    },
    {
      "cell_type": "code",
      "source": [],
      "metadata": {
        "id": "rFEenlEYiOux"
      },
      "execution_count": null,
      "outputs": []
    },
    {
      "cell_type": "markdown",
      "metadata": {
        "id": "iz_C42tOhGzF"
      },
      "source": [
        "# Data Transformations with Apache Spark\n",
        "\n",
        "In this lab, you will perform transformations on the `classicmodels` database with Apache Spark. You will first practice the basics and then use `PySpark` to create a star schema model similar to the one done in the Week 1 assignment."
      ]
    },
    {
      "cell_type": "markdown",
      "metadata": {
        "id": "80p4V7gchGzG"
      },
      "source": [
        "# Table of Contents\n",
        "\n",
        "- [ 1 - Introduction](#1)\n",
        "- [ 2 - Environment Setup](#2)\n",
        "- [ 3 - Apache Spark 101](#3)\n",
        "  - [ 3.1 - Spark Classes](#3.1)\n",
        "  - [ 3.2 - Spark DataFrame](#3.2)\n",
        "  - [ 3.3 - Spark SQL](#3.3)\n",
        "  - [ 3.4 - UDFs and Data Types](#3.4)\n",
        "- [ 4 - Data Modeling with Spark](#4)\n",
        "  - [ 4.1 - Read the Tables](#4.1)\n",
        "  - [ 4.2 - Star Schema](#4.2)\n",
        "  - [ 4.3 - Customers Dimension](#4.3)\n",
        "  - [ 4.4 - Products Dimension](#4.4)\n",
        "  - [ 4.5 - Offices Dimension](#4.5)\n",
        "  - [ 4.6 - Employees Dimension](#4.6)\n",
        "  - [ 4.7 - Date Dimension](#4.7)\n",
        "  - [ 4.8 - Fact Table](#4.8)\n",
        "- [ 5 - Upload Files for Grading](#5)"
      ]
    },
    {
      "cell_type": "markdown",
      "metadata": {
        "id": "as_OndMxhGzG"
      },
      "source": [
        "<a name='1'></a>\n",
        "## 1 - Introduction\n",
        "\n",
        "Apache Spark is an open-source unified analytics engine for large-scale data processing, it allows you to perform Data Engineering, Data Science, and Machine Learning jobs on single-node machines or clusters. In courses 1 and 3, you have seen some examples with AWS Glue jobs, a serverless service that allows you to run Spark jobs without setting up cloud resources. In this assignment, you are provided with a Spark cluster deployed using Amazon EMR. This service comes with a Studio and Workspace functions allowing you to run Spark jobs from this notebook directly.\n",
        "\n",
        "You will recreate the Star Schema data model from the Week 1 assignment using PySpark, the Python API for Spark."
      ]
    },
    {
      "cell_type": "markdown",
      "metadata": {
        "id": "JDDVkb92hGzH"
      },
      "source": [
        "<a name='2'></a>\n",
        "## 2 - Environment Setup\n",
        "\n",
        "The `classicmodels` database is stored in an RDS instance running a Postgres engine, you will need to configure the connection to read the source data and then store the generated data models. Thankfully, the Studio functionality of Amazon EMR provides you with the necessary classes ready to use, but you will need to add a configuration to allow the environment to connect to a Postgres database."
      ]
    },
    {
      "cell_type": "markdown",
      "metadata": {
        "id": "p6WO8_KnhGzH"
      },
      "source": [
        "2.1. Run the following cell, this will point the Spark cluster to a JAR file with the necessary code to connect:"
      ]
    },
    {
      "cell_type": "code",
      "execution_count": null,
      "metadata": {
        "execution": {
          "iopub.execute_input": "2024-12-15T16:39:32.350609Z",
          "iopub.status.busy": "2024-12-15T16:39:32.350285Z",
          "iopub.status.idle": "2024-12-15T16:39:32.610780Z",
          "shell.execute_reply": "2024-12-15T16:39:32.609854Z",
          "shell.execute_reply.started": "2024-12-15T16:39:32.350577Z"
        },
        "id": "EOceNgnlhGzH",
        "outputId": "7e905e58-3bb7-4f66-b92f-c360c06b132a"
      },
      "outputs": [
        {
          "data": {
            "text/html": [
              "Current session configs: <tt>{'conf': {'spark.pyspark.python': 'python', 'spark.pyspark.virtualenv.enabled': 'true', 'spark.pyspark.virtualenv.type': 'native', 'spark.pyspark.virtualenv.bin.path': '/usr/bin/virtualenv', 'spark.jars.packages': 'org.postgresql:postgresql:42.2.5'}, 'proxyUser': 'assumed-role_voclabs_user3548522_Anh-Thi_DINH', 'kind': 'pyspark'}</tt><br>"
            ],
            "text/plain": [
              "<IPython.core.display.HTML object>"
            ]
          },
          "metadata": {},
          "output_type": "display_data"
        },
        {
          "data": {
            "text/html": [
              "No active sessions."
            ],
            "text/plain": [
              "<IPython.core.display.HTML object>"
            ]
          },
          "metadata": {},
          "output_type": "display_data"
        }
      ],
      "source": [
        "%%configure -f\n",
        "{\n",
        "    \"conf\": {\n",
        "        \"spark.pyspark.python\": \"python\",\n",
        "        \"spark.pyspark.virtualenv.enabled\": \"true\",\n",
        "        \"spark.pyspark.virtualenv.type\":\"native\",\n",
        "        \"spark.pyspark.virtualenv.bin.path\":\"/usr/bin/virtualenv\",\n",
        "        \"spark.jars.packages\": \"org.postgresql:postgresql:42.2.5\"\n",
        "    }\n",
        "}"
      ]
    },
    {
      "cell_type": "markdown",
      "metadata": {
        "id": "5sruuZE0hGzI"
      },
      "source": [
        "2.2. Go to **CloudFormation** in the AWS console. You will see the stack with an alphanumeric ID. Click on it and search for the **Outputs** tab. You will see the key `PostgresEndpoint`, copy the corresponding **Value** (highlight and copy it as text, not as a link). Replace the placeholder `<RDS-ENDPOINT>` in the following cell and run it."
      ]
    },
    {
      "cell_type": "code",
      "execution_count": null,
      "metadata": {
        "execution": {
          "iopub.execute_input": "2024-12-15T16:40:56.222971Z",
          "iopub.status.busy": "2024-12-15T16:40:56.222731Z",
          "iopub.status.idle": "2024-12-15T16:41:35.666578Z",
          "shell.execute_reply": "2024-12-15T16:41:35.665936Z",
          "shell.execute_reply.started": "2024-12-15T16:40:56.222943Z"
        },
        "id": "JTOTWTy3hGzI",
        "outputId": "5cb4382e-330c-46e8-d8f8-57de91226128",
        "colab": {
          "referenced_widgets": [
            "3a901c3eb85d4507ba774205c9e5fbe9",
            ""
          ]
        }
      },
      "outputs": [
        {
          "data": {
            "application/vnd.jupyter.widget-view+json": {
              "model_id": "3a901c3eb85d4507ba774205c9e5fbe9",
              "version_major": 2,
              "version_minor": 0
            },
            "text/plain": [
              "VBox()"
            ]
          },
          "metadata": {},
          "output_type": "display_data"
        },
        {
          "name": "stdout",
          "output_type": "stream",
          "text": [
            "Starting Spark application\n"
          ]
        },
        {
          "data": {
            "text/html": [
              "<table>\n<tbody><tr><th>ID</th><th>YARN Application ID</th><th>Kind</th><th>State</th><th>Spark UI</th><th>Driver log</th><th>User</th><th>Current session?</th></tr><tr><td>0</td><td>application_1734276786147_0001</td><td>pyspark</td><td>idle</td><td><a target=\"_blank\" href=\"http://ip-10-0-1-124.ec2.internal:20888/proxy/application_1734276786147_0001/\" class=\"emr-proxy-link j-12J8BFPIX718W application_1734276786147_0001\" emr-resource=\"j-12J8BFPIX718W\n\" application-id=\"application_1734276786147_0001\">Link</a></td><td><a target=\"_blank\" href=\"http://ip-10-0-1-42.ec2.internal:8042/node/containerlogs/container_1734276786147_0001_01_000001/livy\">Link</a></td><td>None</td><td>✔</td></tr></tbody></table>"
            ],
            "text/plain": [
              "<IPython.core.display.HTML object>"
            ]
          },
          "metadata": {},
          "output_type": "display_data"
        },
        {
          "data": {
            "application/vnd.jupyter.widget-view+json": {
              "model_id": "",
              "version_major": 2,
              "version_minor": 0
            },
            "text/plain": [
              "FloatProgress(value=0.0, bar_style='info', description='Progress:', layout=Layout(height='25px', width='50%'),…"
            ]
          },
          "metadata": {},
          "output_type": "display_data"
        },
        {
          "name": "stdout",
          "output_type": "stream",
          "text": [
            "SparkSession available as 'spark'.\n"
          ]
        },
        {
          "data": {
            "application/vnd.jupyter.widget-view+json": {
              "model_id": "",
              "version_major": 2,
              "version_minor": 0
            },
            "text/plain": [
              "FloatProgress(value=0.0, bar_style='info', description='Progress:', layout=Layout(height='25px', width='50%'),…"
            ]
          },
          "metadata": {},
          "output_type": "display_data"
        }
      ],
      "source": [
        "RDS_ENDPOINT = \"de-c4w3a1-rds.cfs4mc2km816.us-east-1.rds.amazonaws.com\"\n",
        "jdbc_url = f\"jdbc:postgresql://{RDS_ENDPOINT}:5432/postgres\"  # For PostgreSQL\n",
        "\n",
        "jdbc_properties = {\n",
        "    \"user\": \"postgresuser\",\n",
        "    \"password\": \"adminpwrd\",\n",
        "    \"driver\": \"org.postgresql.Driver\"  # For PostgreSQL\n",
        "}"
      ]
    },
    {
      "cell_type": "markdown",
      "metadata": {
        "id": "p7MnooY-hGzI"
      },
      "source": [
        "After running the previous cell you should wait while the Spark application starts. After it finishes, you should see a message like this:\n",
        "```bash\n",
        "SparkSession available as 'spark'\n",
        "```"
      ]
    },
    {
      "cell_type": "markdown",
      "metadata": {
        "id": "iP1eSMtZhGzI"
      },
      "source": [
        "2.3. Now use the `spark` object that is available to read from the database using Java Database Connectivity (JDBC), you will provide the JDBC url and the connection properties, and point to a table with their corresponding schema. In this case, you will call `information_schema.tables` to get the available tables; then you will select the schema and names."
      ]
    },
    {
      "cell_type": "code",
      "execution_count": null,
      "metadata": {
        "execution": {
          "iopub.execute_input": "2024-12-15T16:45:06.957075Z",
          "iopub.status.busy": "2024-12-15T16:45:06.956830Z",
          "iopub.status.idle": "2024-12-15T16:45:16.264224Z",
          "shell.execute_reply": "2024-12-15T16:45:16.263450Z",
          "shell.execute_reply.started": "2024-12-15T16:45:06.957046Z"
        },
        "id": "un2qtwwEhGzI",
        "outputId": "6b2e323b-63ad-40bf-af3f-7c881fd0d17b",
        "colab": {
          "referenced_widgets": [
            ""
          ]
        }
      },
      "outputs": [
        {
          "data": {
            "application/vnd.jupyter.widget-view+json": {
              "model_id": "",
              "version_major": 2,
              "version_minor": 0
            },
            "text/plain": [
              "FloatProgress(value=0.0, bar_style='info', description='Progress:', layout=Layout(height='25px', width='50%'),…"
            ]
          },
          "metadata": {},
          "output_type": "display_data"
        },
        {
          "name": "stdout",
          "output_type": "stream",
          "text": [
            "+-------------+--------------------+\n",
            "| table_schema|          table_name|\n",
            "+-------------+--------------------+\n",
            "|classicmodels|           employees|\n",
            "|classicmodels|             offices|\n",
            "|classicmodels|           customers|\n",
            "|classicmodels|        orderdetails|\n",
            "|classicmodels|        productlines|\n",
            "|classicmodels|            products|\n",
            "|classicmodels|              orders|\n",
            "|   pg_catalog|             pg_type|\n",
            "|classicmodels|            payments|\n",
            "|   pg_catalog|    pg_foreign_table|\n",
            "|   pg_catalog|            pg_roles|\n",
            "|   pg_catalog|         pg_settings|\n",
            "|   pg_catalog|pg_shmem_allocations|\n",
            "|   pg_catalog|pg_backend_memory...|\n",
            "|   pg_catalog|    pg_stat_activity|\n",
            "|   pg_catalog|     pg_subscription|\n",
            "|   pg_catalog|        pg_attribute|\n",
            "|   pg_catalog|             pg_proc|\n",
            "|   pg_catalog|            pg_class|\n",
            "|   pg_catalog|          pg_attrdef|\n",
            "+-------------+--------------------+\n",
            "only showing top 20 rows"
          ]
        }
      ],
      "source": [
        "%%pyspark\n",
        "information_tables_df = spark.read.jdbc(jdbc_url, \"information_schema.tables\", properties=jdbc_properties)\n",
        "information_tables_df.select([\"table_schema\", \"table_name\"]).show()"
      ]
    },
    {
      "cell_type": "markdown",
      "metadata": {
        "id": "xIWfMVidhGzJ"
      },
      "source": [
        "2.4. Now that you listed the available schemas, call the `information_schema.schemata` table. Select the `schema_name` and `schema_owner`, and then show the resulting DataFrame."
      ]
    },
    {
      "cell_type": "code",
      "execution_count": null,
      "metadata": {
        "execution": {
          "iopub.execute_input": "2024-12-15T16:46:26.911850Z",
          "iopub.status.busy": "2024-12-15T16:46:26.911606Z",
          "iopub.status.idle": "2024-12-15T16:46:34.247175Z",
          "shell.execute_reply": "2024-12-15T16:46:34.246393Z",
          "shell.execute_reply.started": "2024-12-15T16:46:26.911824Z"
        },
        "id": "xd3Fb8B7hGzJ",
        "outputId": "11f30dd6-9b9c-454d-e35e-de94507d6e9f",
        "colab": {
          "referenced_widgets": [
            "bc2ce52ac29941b4bef75a921dd7e3bb",
            ""
          ]
        }
      },
      "outputs": [
        {
          "data": {
            "application/vnd.jupyter.widget-view+json": {
              "model_id": "bc2ce52ac29941b4bef75a921dd7e3bb",
              "version_major": 2,
              "version_minor": 0
            },
            "text/plain": [
              "VBox()"
            ]
          },
          "metadata": {},
          "output_type": "display_data"
        },
        {
          "data": {
            "application/vnd.jupyter.widget-view+json": {
              "model_id": "",
              "version_major": 2,
              "version_minor": 0
            },
            "text/plain": [
              "FloatProgress(value=0.0, bar_style='info', description='Progress:', layout=Layout(height='25px', width='50%'),…"
            ]
          },
          "metadata": {},
          "output_type": "display_data"
        },
        {
          "name": "stdout",
          "output_type": "stream",
          "text": [
            "+--------------------+-----------------+\n",
            "|         schema_name|     schema_owner|\n",
            "+--------------------+-----------------+\n",
            "|              public|pg_database_owner|\n",
            "|       classicmodels|     postgresuser|\n",
            "|         test_schema|     postgresuser|\n",
            "|classicmodels_sta...|     postgresuser|\n",
            "|  information_schema|         rdsadmin|\n",
            "|          pg_catalog|         rdsadmin|\n",
            "+--------------------+-----------------+"
          ]
        }
      ],
      "source": [
        "information_schemas_df = spark.read.jdbc(jdbc_url, \"information_schema.schemata\", properties=jdbc_properties)\n",
        "information_schemas_df.select([\"schema_name\", \"schema_owner\"]).show()"
      ]
    },
    {
      "cell_type": "markdown",
      "metadata": {
        "id": "vylwFgbehGzJ"
      },
      "source": [
        "<a name='3'></a>\n",
        "## 3 - Apache Spark 101\n",
        "\n",
        "As mentioned before, Apache Spark is a workload engine that can be used with high-level APIs in programming languages such as Java, Scala and Python. The core abstraction of Spark is a Resilient Distributed Dataset (RDD), which is a collection of elements that can be partitioned across the nodes of the cluster; this enables running intensive workloads on the data in parallel. Spark also has some high-level toolsets like Spark SQL for structured data processing using SQL, pandas API for Spark to run pandas workloads, and MLlib for machine learning workloads.\n",
        "\n",
        "You will focus on PySpark, the Python API. However, you will skip the details on how to connect to a Spark cluster and most of the initial setup required as the necessary configuration to run this notebook has already been provided.\n",
        "\n",
        "In this section, you will get a brief overview of the required classes to access Spark with PySpark and run your workloads."
      ]
    },
    {
      "cell_type": "markdown",
      "metadata": {
        "id": "TuJbvQLRhGzJ"
      },
      "source": [
        "<a name='3.1'></a>\n",
        "### 3.1 - Spark Classes\n",
        "\n",
        "To start a Spark program you must create a `SparkConf` object, that contains information about your application, and a `SparkContext` object, which tells Spark how to access a cluster.\n",
        "\n",
        "```python\n",
        "from pyspark import SparkContext, SparkConf\n",
        "conf = SparkConf().setAppName(appName).setMaster(master)\n",
        "sc = SparkContext(conf=conf)\n",
        "```\n",
        "\n",
        "The `appName` parameter is a string with the name of your application, it shows on the Spark cluster UI. `master` is the connection string to a Spark cluster or a `\"local\"` string to run in local mode."
      ]
    },
    {
      "cell_type": "markdown",
      "metadata": {
        "id": "-RgKB2r8hGzJ"
      },
      "source": [
        "<a name='3.2'></a>\n",
        "### 3.2 - Spark DataFrame\n",
        "\n",
        "In this lab, you will be using the PySpark DataFrame API, which enables the use of Spark DataFrames, an abstraction on top of RDDs. For PySpark applications running this API, you can start by initializing a `SparkSession` object which is the entry point of PySpark.\n",
        "\n",
        "```python\n",
        "from pyspark.sql import SparkSession\n",
        "\n",
        "spark = SparkSession.builder.getOrCreate()\n",
        "```\n",
        "\n",
        "In this notebook, you can access a preconfigured `SparkSession` object using the `spark` variable, which you have used before to read the available tables. Now, you will start looking into the Spark DataFrame. Let's read the `orders` table from the `classicmodels` schema."
      ]
    },
    {
      "cell_type": "code",
      "execution_count": null,
      "metadata": {
        "execution": {
          "iopub.execute_input": "2024-12-15T16:48:13.572352Z",
          "iopub.status.busy": "2024-12-15T16:48:13.572100Z",
          "iopub.status.idle": "2024-12-15T16:48:13.816141Z",
          "shell.execute_reply": "2024-12-15T16:48:13.815443Z",
          "shell.execute_reply.started": "2024-12-15T16:48:13.572324Z"
        },
        "id": "JvZXeKb1hGzJ",
        "outputId": "99d44a55-fbb1-4551-9817-8bd0f9a6e614",
        "colab": {
          "referenced_widgets": [
            ""
          ]
        }
      },
      "outputs": [
        {
          "data": {
            "application/vnd.jupyter.widget-view+json": {
              "model_id": "",
              "version_major": 2,
              "version_minor": 0
            },
            "text/plain": [
              "FloatProgress(value=0.0, bar_style='info', description='Progress:', layout=Layout(height='25px', width='50%'),…"
            ]
          },
          "metadata": {},
          "output_type": "display_data"
        }
      ],
      "source": [
        "%%pyspark\n",
        "\n",
        "# Read data from RDS into a Spark DataFrame\n",
        "orders_df = spark.read.jdbc(url=jdbc_url, table=\"classicmodels.orders\", properties=jdbc_properties)"
      ]
    },
    {
      "cell_type": "markdown",
      "metadata": {
        "id": "iuctdRPrhGzJ"
      },
      "source": [
        "Let's explore the DataFrame operations available, here is a list of some of the most important ones:\n",
        "\n",
        "* `df.printSchema()`: Prints the schema of the DataFrame.\n",
        "* `df.select(\"col\")`: Select the column of the name `col` from the DataFrame.\n",
        "* `df.show()`: Prints the content of the DataFrame.\n",
        "* `df.filter(df[\"col\"] > value)`: Filters the DataFrame based on a logical condition.\n",
        "* `df.groupBy(\"col\").agg()`: Perform an aggregation based on a column of name `col`. The aggregation can be `count`, `max`, `min`, `avg`.\n",
        "* `df.withColumn(\"new_col\",col_values)`: Adds a new column to the DataFrame with the `new_col` name and `col_values` as values for the column."
      ]
    },
    {
      "cell_type": "markdown",
      "metadata": {
        "id": "RpseIuXohGzK"
      },
      "source": [
        "Let's start by printing the content of the `orders` DataFrame."
      ]
    },
    {
      "cell_type": "code",
      "execution_count": null,
      "metadata": {
        "execution": {
          "iopub.execute_input": "2024-12-15T16:48:28.570717Z",
          "iopub.status.busy": "2024-12-15T16:48:28.570490Z",
          "iopub.status.idle": "2024-12-15T16:48:35.902468Z",
          "shell.execute_reply": "2024-12-15T16:48:35.901819Z",
          "shell.execute_reply.started": "2024-12-15T16:48:28.570692Z"
        },
        "id": "0_GcjXmhhGzK",
        "outputId": "6a6b529b-ece6-4a9b-c7cd-24eab1dfa354",
        "colab": {
          "referenced_widgets": [
            "b186b09de0d94e7ca4462b2810938540",
            ""
          ]
        }
      },
      "outputs": [
        {
          "data": {
            "application/vnd.jupyter.widget-view+json": {
              "model_id": "b186b09de0d94e7ca4462b2810938540",
              "version_major": 2,
              "version_minor": 0
            },
            "text/plain": [
              "VBox()"
            ]
          },
          "metadata": {},
          "output_type": "display_data"
        },
        {
          "data": {
            "application/vnd.jupyter.widget-view+json": {
              "model_id": "",
              "version_major": 2,
              "version_minor": 0
            },
            "text/plain": [
              "FloatProgress(value=0.0, bar_style='info', description='Progress:', layout=Layout(height='25px', width='50%'),…"
            ]
          },
          "metadata": {},
          "output_type": "display_data"
        },
        {
          "name": "stdout",
          "output_type": "stream",
          "text": [
            "+-----------+-------------------+-------------------+-------------------+-------+--------------------+--------------+\n",
            "|ordernumber|          orderdate|       requireddate|        shippeddate| status|            comments|customernumber|\n",
            "+-----------+-------------------+-------------------+-------------------+-------+--------------------+--------------+\n",
            "|      10100|2003-01-06 00:00:00|2003-01-13 00:00:00|2003-01-10 00:00:00|Shipped|                NULL|           363|\n",
            "|      10101|2003-01-09 00:00:00|2003-01-18 00:00:00|2003-01-11 00:00:00|Shipped|Check on availabi...|           128|\n",
            "|      10102|2003-01-10 00:00:00|2003-01-18 00:00:00|2003-01-14 00:00:00|Shipped|                NULL|           181|\n",
            "|      10103|2003-01-29 00:00:00|2003-02-07 00:00:00|2003-02-02 00:00:00|Shipped|                NULL|           121|\n",
            "|      10104|2003-01-31 00:00:00|2003-02-09 00:00:00|2003-02-01 00:00:00|Shipped|                NULL|           141|\n",
            "|      10105|2003-02-11 00:00:00|2003-02-21 00:00:00|2003-02-12 00:00:00|Shipped|                NULL|           145|\n",
            "|      10106|2003-02-17 00:00:00|2003-02-24 00:00:00|2003-02-21 00:00:00|Shipped|                NULL|           278|\n",
            "|      10107|2003-02-24 00:00:00|2003-03-03 00:00:00|2003-02-26 00:00:00|Shipped|Difficult to nego...|           131|\n",
            "|      10108|2003-03-03 00:00:00|2003-03-12 00:00:00|2003-03-08 00:00:00|Shipped|                NULL|           385|\n",
            "|      10109|2003-03-10 00:00:00|2003-03-19 00:00:00|2003-03-11 00:00:00|Shipped|Customer requeste...|           486|\n",
            "|      10110|2003-03-18 00:00:00|2003-03-24 00:00:00|2003-03-20 00:00:00|Shipped|                NULL|           187|\n",
            "|      10111|2003-03-25 00:00:00|2003-03-31 00:00:00|2003-03-30 00:00:00|Shipped|                NULL|           129|\n",
            "|      10112|2003-03-24 00:00:00|2003-04-03 00:00:00|2003-03-29 00:00:00|Shipped|Customer requeste...|           144|\n",
            "|      10113|2003-03-26 00:00:00|2003-04-02 00:00:00|2003-03-27 00:00:00|Shipped|                NULL|           124|\n",
            "|      10114|2003-04-01 00:00:00|2003-04-07 00:00:00|2003-04-02 00:00:00|Shipped|                NULL|           172|\n",
            "|      10115|2003-04-04 00:00:00|2003-04-12 00:00:00|2003-04-07 00:00:00|Shipped|                NULL|           424|\n",
            "|      10116|2003-04-11 00:00:00|2003-04-19 00:00:00|2003-04-13 00:00:00|Shipped|                NULL|           381|\n",
            "|      10117|2003-04-16 00:00:00|2003-04-24 00:00:00|2003-04-17 00:00:00|Shipped|                NULL|           148|\n",
            "|      10118|2003-04-21 00:00:00|2003-04-29 00:00:00|2003-04-26 00:00:00|Shipped|Customer has work...|           216|\n",
            "|      10119|2003-04-28 00:00:00|2003-05-05 00:00:00|2003-05-02 00:00:00|Shipped|                NULL|           382|\n",
            "+-----------+-------------------+-------------------+-------------------+-------+--------------------+--------------+\n",
            "only showing top 20 rows"
          ]
        }
      ],
      "source": [
        "orders_df.show()"
      ]
    },
    {
      "cell_type": "markdown",
      "metadata": {
        "id": "KHtJ6tF9hGzK"
      },
      "source": [
        "You can create a Spark DataFrame from collections such as a list of tuples, a list of dictionaries, an RDD, and a `pandas` DataFrame. This is an example:"
      ]
    },
    {
      "cell_type": "code",
      "execution_count": null,
      "metadata": {
        "execution": {
          "iopub.execute_input": "2024-12-15T16:48:56.279151Z",
          "iopub.status.busy": "2024-12-15T16:48:56.278909Z",
          "iopub.status.idle": "2024-12-15T16:48:58.571554Z",
          "shell.execute_reply": "2024-12-15T16:48:58.570706Z",
          "shell.execute_reply.started": "2024-12-15T16:48:56.279124Z"
        },
        "id": "kFZWy8GzhGzK",
        "outputId": "b15463d3-02ad-42ba-aadb-556ee28b1ced",
        "colab": {
          "referenced_widgets": [
            "92e59dd3b96d4898b6493096c09f98b9",
            ""
          ]
        }
      },
      "outputs": [
        {
          "data": {
            "application/vnd.jupyter.widget-view+json": {
              "model_id": "92e59dd3b96d4898b6493096c09f98b9",
              "version_major": 2,
              "version_minor": 0
            },
            "text/plain": [
              "VBox()"
            ]
          },
          "metadata": {},
          "output_type": "display_data"
        },
        {
          "data": {
            "application/vnd.jupyter.widget-view+json": {
              "model_id": "",
              "version_major": 2,
              "version_minor": 0
            },
            "text/plain": [
              "FloatProgress(value=0.0, bar_style='info', description='Progress:', layout=Layout(height='25px', width='50%'),…"
            ]
          },
          "metadata": {},
          "output_type": "display_data"
        },
        {
          "name": "stdout",
          "output_type": "stream",
          "text": [
            "+-----+---+\n",
            "|   _1| _2|\n",
            "+-----+---+\n",
            "|Alice|  1|\n",
            "|  Bob|  2|\n",
            "|Carla|  3|\n",
            "+-----+---+"
          ]
        }
      ],
      "source": [
        "list_of_tuples = [(\"Alice\", 1),(\"Bob\", 2),(\"Carla\", 3)]\n",
        "spark.createDataFrame(list_of_tuples).show()"
      ]
    },
    {
      "cell_type": "markdown",
      "metadata": {
        "id": "Os3UelGOhGzK"
      },
      "source": [
        "You can define the schema as a second parameter, either by passing a list of column names or a `StructType`, the later one uses an array of `StructField` for each column with the corresponding name, type and if the column accepts nulls."
      ]
    },
    {
      "cell_type": "code",
      "execution_count": null,
      "metadata": {
        "execution": {
          "iopub.execute_input": "2024-12-15T16:52:01.412408Z",
          "iopub.status.busy": "2024-12-15T16:52:01.412174Z",
          "iopub.status.idle": "2024-12-15T16:52:08.732005Z",
          "shell.execute_reply": "2024-12-15T16:52:08.731037Z",
          "shell.execute_reply.started": "2024-12-15T16:52:01.412382Z"
        },
        "tags": [],
        "id": "zAqZHfHQhGzK",
        "outputId": "c46709aa-4318-4041-c6fe-c6589958f3cb",
        "colab": {
          "referenced_widgets": [
            "511215969d25470186e1dd5dc8483b30",
            ""
          ]
        }
      },
      "outputs": [
        {
          "data": {
            "application/vnd.jupyter.widget-view+json": {
              "model_id": "511215969d25470186e1dd5dc8483b30",
              "version_major": 2,
              "version_minor": 0
            },
            "text/plain": [
              "VBox()"
            ]
          },
          "metadata": {},
          "output_type": "display_data"
        },
        {
          "data": {
            "application/vnd.jupyter.widget-view+json": {
              "model_id": "",
              "version_major": 2,
              "version_minor": 0
            },
            "text/plain": [
              "FloatProgress(value=0.0, bar_style='info', description='Progress:', layout=Layout(height='25px', width='50%'),…"
            ]
          },
          "metadata": {},
          "output_type": "display_data"
        },
        {
          "name": "stdout",
          "output_type": "stream",
          "text": [
            "+-----+---+\n",
            "| name|age|\n",
            "+-----+---+\n",
            "|Alice|  1|\n",
            "|  Bob|  2|\n",
            "|Carla|  3|\n",
            "+-----+---+"
          ]
        }
      ],
      "source": [
        "from pyspark.sql.types import *\n",
        "schema = StructType([\n",
        "   StructField(\"name\", StringType(), True),\n",
        "   StructField(\"age\", IntegerType(), True)])\n",
        "test_df = spark.createDataFrame(list_of_tuples, schema)\n",
        "test_df.show()"
      ]
    },
    {
      "cell_type": "markdown",
      "metadata": {
        "id": "KHB5zIgchGzK"
      },
      "source": [
        "Finally, you can also write Spark DataFrames in the same formats that you can read. During this lab, you will save DataFrames to the same database. Here is an example of how to store a DataFrame to Postgres to a pre-created `test_schema`:"
      ]
    },
    {
      "cell_type": "code",
      "execution_count": null,
      "metadata": {
        "execution": {
          "iopub.execute_input": "2024-12-15T16:54:41.687715Z",
          "iopub.status.busy": "2024-12-15T16:54:41.687480Z",
          "iopub.status.idle": "2024-12-15T16:54:51.010440Z",
          "shell.execute_reply": "2024-12-15T16:54:51.009795Z",
          "shell.execute_reply.started": "2024-12-15T16:54:41.687688Z"
        },
        "id": "B-CpYWZihGzK",
        "outputId": "2f2880c4-5937-4ad5-c446-b1e6e6f12c4e",
        "colab": {
          "referenced_widgets": [
            "c6c244557e2047bdbc5ffd6ba536fc57",
            ""
          ]
        }
      },
      "outputs": [
        {
          "data": {
            "application/vnd.jupyter.widget-view+json": {
              "model_id": "c6c244557e2047bdbc5ffd6ba536fc57",
              "version_major": 2,
              "version_minor": 0
            },
            "text/plain": [
              "VBox()"
            ]
          },
          "metadata": {},
          "output_type": "display_data"
        },
        {
          "data": {
            "application/vnd.jupyter.widget-view+json": {
              "model_id": "",
              "version_major": 2,
              "version_minor": 0
            },
            "text/plain": [
              "FloatProgress(value=0.0, bar_style='info', description='Progress:', layout=Layout(height='25px', width='50%'),…"
            ]
          },
          "metadata": {},
          "output_type": "display_data"
        }
      ],
      "source": [
        "test_df.write.jdbc(url=jdbc_url, table=\"test_schema.test_table\", mode=\"overwrite\", properties=jdbc_properties)"
      ]
    },
    {
      "cell_type": "markdown",
      "metadata": {
        "id": "n1Xdjky0hGzK"
      },
      "source": [
        "<a name='3.3'></a>\n",
        "### 3.3 - Spark SQL\n",
        "\n",
        "As mentioned before, one of the high-level tools offered by Spark is Spark SQL, this will be one of the main tools you will use during the lab. You can perform SQL queries using the available DataFrames, first, you have to register each DataFrame as a temporary view and then call the `sql` function from the `SparkSession` object."
      ]
    },
    {
      "cell_type": "code",
      "execution_count": null,
      "metadata": {
        "execution": {
          "iopub.execute_input": "2024-12-15T16:56:34.614438Z",
          "iopub.status.busy": "2024-12-15T16:56:34.614205Z",
          "iopub.status.idle": "2024-12-15T16:56:41.927054Z",
          "shell.execute_reply": "2024-12-15T16:56:41.926230Z",
          "shell.execute_reply.started": "2024-12-15T16:56:34.614411Z"
        },
        "id": "atrlauIShGzK",
        "outputId": "900a7268-4288-481f-939c-b966f0ca0f35",
        "colab": {
          "referenced_widgets": [
            "685cba940ac84a6a944951d65f4c2098",
            ""
          ]
        }
      },
      "outputs": [
        {
          "data": {
            "application/vnd.jupyter.widget-view+json": {
              "model_id": "685cba940ac84a6a944951d65f4c2098",
              "version_major": 2,
              "version_minor": 0
            },
            "text/plain": [
              "VBox()"
            ]
          },
          "metadata": {},
          "output_type": "display_data"
        },
        {
          "data": {
            "application/vnd.jupyter.widget-view+json": {
              "model_id": "",
              "version_major": 2,
              "version_minor": 0
            },
            "text/plain": [
              "FloatProgress(value=0.0, bar_style='info', description='Progress:', layout=Layout(height='25px', width='50%'),…"
            ]
          },
          "metadata": {},
          "output_type": "display_data"
        },
        {
          "name": "stdout",
          "output_type": "stream",
          "text": [
            "+-----------+-------------------+-------------------+-------------------+-------+--------------------+--------------+\n",
            "|ordernumber|          orderdate|       requireddate|        shippeddate| status|            comments|customernumber|\n",
            "+-----------+-------------------+-------------------+-------------------+-------+--------------------+--------------+\n",
            "|      10100|2003-01-06 00:00:00|2003-01-13 00:00:00|2003-01-10 00:00:00|Shipped|                NULL|           363|\n",
            "|      10101|2003-01-09 00:00:00|2003-01-18 00:00:00|2003-01-11 00:00:00|Shipped|Check on availabi...|           128|\n",
            "|      10102|2003-01-10 00:00:00|2003-01-18 00:00:00|2003-01-14 00:00:00|Shipped|                NULL|           181|\n",
            "|      10103|2003-01-29 00:00:00|2003-02-07 00:00:00|2003-02-02 00:00:00|Shipped|                NULL|           121|\n",
            "|      10104|2003-01-31 00:00:00|2003-02-09 00:00:00|2003-02-01 00:00:00|Shipped|                NULL|           141|\n",
            "|      10105|2003-02-11 00:00:00|2003-02-21 00:00:00|2003-02-12 00:00:00|Shipped|                NULL|           145|\n",
            "|      10106|2003-02-17 00:00:00|2003-02-24 00:00:00|2003-02-21 00:00:00|Shipped|                NULL|           278|\n",
            "|      10107|2003-02-24 00:00:00|2003-03-03 00:00:00|2003-02-26 00:00:00|Shipped|Difficult to nego...|           131|\n",
            "|      10108|2003-03-03 00:00:00|2003-03-12 00:00:00|2003-03-08 00:00:00|Shipped|                NULL|           385|\n",
            "|      10109|2003-03-10 00:00:00|2003-03-19 00:00:00|2003-03-11 00:00:00|Shipped|Customer requeste...|           486|\n",
            "|      10110|2003-03-18 00:00:00|2003-03-24 00:00:00|2003-03-20 00:00:00|Shipped|                NULL|           187|\n",
            "|      10111|2003-03-25 00:00:00|2003-03-31 00:00:00|2003-03-30 00:00:00|Shipped|                NULL|           129|\n",
            "|      10112|2003-03-24 00:00:00|2003-04-03 00:00:00|2003-03-29 00:00:00|Shipped|Customer requeste...|           144|\n",
            "|      10113|2003-03-26 00:00:00|2003-04-02 00:00:00|2003-03-27 00:00:00|Shipped|                NULL|           124|\n",
            "|      10114|2003-04-01 00:00:00|2003-04-07 00:00:00|2003-04-02 00:00:00|Shipped|                NULL|           172|\n",
            "|      10115|2003-04-04 00:00:00|2003-04-12 00:00:00|2003-04-07 00:00:00|Shipped|                NULL|           424|\n",
            "|      10116|2003-04-11 00:00:00|2003-04-19 00:00:00|2003-04-13 00:00:00|Shipped|                NULL|           381|\n",
            "|      10117|2003-04-16 00:00:00|2003-04-24 00:00:00|2003-04-17 00:00:00|Shipped|                NULL|           148|\n",
            "|      10118|2003-04-21 00:00:00|2003-04-29 00:00:00|2003-04-26 00:00:00|Shipped|Customer has work...|           216|\n",
            "|      10119|2003-04-28 00:00:00|2003-05-05 00:00:00|2003-05-02 00:00:00|Shipped|                NULL|           382|\n",
            "+-----------+-------------------+-------------------+-------------------+-------+--------------------+--------------+\n",
            "only showing top 20 rows"
          ]
        }
      ],
      "source": [
        "orders_df.createOrReplaceTempView(\"orders\")\n",
        "\n",
        "sqlDF = spark.sql(\"SELECT * FROM orders\")\n",
        "sqlDF.show()"
      ]
    },
    {
      "cell_type": "markdown",
      "metadata": {
        "id": "VOocG1T9hGzL"
      },
      "source": [
        "<a name='3.4'></a>\n",
        "### 3.4 - UDFs and Data Types\n",
        "\n",
        "Another advantage of Spark SQL is the definition of Python functions as SQL User Defined Functions (UDF). UDFs help us store custom logic and use it with multiple DataFrames. For example, if you want a text column to be title case (the first letter of each word is capitalized), you can define a function for it and then store it as a UDF.\n",
        "\n",
        "```python\n",
        "from pyspark.sql.types import StringType\n",
        "\n",
        "def titleCase(text: str):\n",
        "    output = ' '.join(word[0].upper() + word[1:] for word in text.split())\n",
        "    return output\n",
        "\n",
        "spark.udf.register(\"titleUDF\", titleCase, StringType())\n",
        "\n",
        "spark.sql(\"select book_id, titleUDF(book_name) as title from books\")\n",
        "```"
      ]
    },
    {
      "cell_type": "markdown",
      "metadata": {
        "id": "BWZxCor6hGzL"
      },
      "source": [
        "In the previous example, you registered the UDF using the `spark.udf.register` function, which takes the name of the function to use in SQL, the Python function and the return type. You use Spark SQL Data Types in this case, you will work more with them later, as they can be used to describe the schema of a Spark DataFrame. It's also worth mentioning that you can also use UDF directly on DataFrames; in this case, we use a `lambda` function.\n",
        "\n",
        "```python\n",
        "from pyspark.sql.functions import col, udf\n",
        "\n",
        "titleUDF = udf(lambda z: titleCase(z),StringType())\n",
        "\n",
        "books_df.select(col(\"book_id\"), titleUDF(col(\"book_name\")).alias(\"title\"))\n",
        "```"
      ]
    },
    {
      "cell_type": "markdown",
      "metadata": {
        "id": "ZcG0G6sUhGzL"
      },
      "source": [
        "You will create a UDF using this method to generate surrogate keys. You will use the `hashlib` library to generate a hash based on a list of column values."
      ]
    },
    {
      "cell_type": "code",
      "execution_count": null,
      "metadata": {
        "execution": {
          "iopub.execute_input": "2024-12-15T16:58:56.586430Z",
          "iopub.status.busy": "2024-12-15T16:58:56.586195Z",
          "iopub.status.idle": "2024-12-15T16:58:56.676647Z",
          "shell.execute_reply": "2024-12-15T16:58:56.675867Z",
          "shell.execute_reply.started": "2024-12-15T16:58:56.586402Z"
        },
        "id": "FaNgjXWChGzL",
        "outputId": "4ad49773-83c7-49fc-9c7c-ee2396890326",
        "colab": {
          "referenced_widgets": [
            "4e96c761506547b783a5bb5412069f2b",
            ""
          ]
        }
      },
      "outputs": [
        {
          "data": {
            "application/vnd.jupyter.widget-view+json": {
              "model_id": "4e96c761506547b783a5bb5412069f2b",
              "version_major": 2,
              "version_minor": 0
            },
            "text/plain": [
              "VBox()"
            ]
          },
          "metadata": {},
          "output_type": "display_data"
        },
        {
          "data": {
            "application/vnd.jupyter.widget-view+json": {
              "model_id": "",
              "version_major": 2,
              "version_minor": 0
            },
            "text/plain": [
              "FloatProgress(value=0.0, bar_style='info', description='Progress:', layout=Layout(height='25px', width='50%'),…"
            ]
          },
          "metadata": {},
          "output_type": "display_data"
        }
      ],
      "source": [
        "import hashlib\n",
        "from typing import List\n",
        "from pyspark.sql.types import StringType\n",
        "from pyspark.sql.functions import col, udf, array\n",
        "\n",
        "def surrogateKey(text_values: List[str]):\n",
        "    sha256 = hashlib.sha256()\n",
        "    data = ''.join(text_values)\n",
        "    sha256.update(data.encode())\n",
        "    return sha256.hexdigest()"
      ]
    },
    {
      "cell_type": "markdown",
      "metadata": {
        "id": "QjWLEG1JhGzL"
      },
      "source": [
        "Let's test the function, create an array of strings, and call the function with it."
      ]
    },
    {
      "cell_type": "code",
      "execution_count": null,
      "metadata": {
        "execution": {
          "iopub.execute_input": "2024-12-15T17:00:21.273212Z",
          "iopub.status.busy": "2024-12-15T17:00:21.272973Z",
          "iopub.status.idle": "2024-12-15T17:00:21.322701Z",
          "shell.execute_reply": "2024-12-15T17:00:21.322111Z",
          "shell.execute_reply.started": "2024-12-15T17:00:21.273185Z"
        },
        "tags": [],
        "id": "TjnIKK78hGzL",
        "outputId": "97c40cef-a641-4573-b5e9-3a6bdde0f812",
        "colab": {
          "referenced_widgets": [
            "fa9cabf3c5c343c681e2835e59b5eaa3",
            ""
          ]
        }
      },
      "outputs": [
        {
          "data": {
            "application/vnd.jupyter.widget-view+json": {
              "model_id": "fa9cabf3c5c343c681e2835e59b5eaa3",
              "version_major": 2,
              "version_minor": 0
            },
            "text/plain": [
              "VBox()"
            ]
          },
          "metadata": {},
          "output_type": "display_data"
        },
        {
          "data": {
            "application/vnd.jupyter.widget-view+json": {
              "model_id": "",
              "version_major": 2,
              "version_minor": 0
            },
            "text/plain": [
              "FloatProgress(value=0.0, bar_style='info', description='Progress:', layout=Layout(height='25px', width='50%'),…"
            ]
          },
          "metadata": {},
          "output_type": "display_data"
        },
        {
          "name": "stdout",
          "output_type": "stream",
          "text": [
            "'ba6de314675567f28b142ba42bab0ab026f777507ab8ca885397dd9494d2a855'"
          ]
        }
      ],
      "source": [
        "surrogateKey([\"01221212\",\"123123123\",\"Hello World\"])"
      ]
    },
    {
      "cell_type": "markdown",
      "metadata": {
        "id": "25V9pusShGzL"
      },
      "source": [
        "Now let's create the UDF with the `surrogateKey` function and a lambda function, the return type is `StringType()`."
      ]
    },
    {
      "cell_type": "code",
      "execution_count": null,
      "metadata": {
        "execution": {
          "iopub.execute_input": "2024-12-15T17:01:56.048967Z",
          "iopub.status.busy": "2024-12-15T17:01:56.048727Z",
          "iopub.status.idle": "2024-12-15T17:01:56.098349Z",
          "shell.execute_reply": "2024-12-15T17:01:56.097752Z",
          "shell.execute_reply.started": "2024-12-15T17:01:56.048939Z"
        },
        "id": "-58kTEyUhGzM",
        "outputId": "610451bc-b1e7-44ec-ecd5-2921cbba5661",
        "colab": {
          "referenced_widgets": [
            "d30b8e43fe904809a38feac00347ba1b",
            ""
          ]
        }
      },
      "outputs": [
        {
          "data": {
            "application/vnd.jupyter.widget-view+json": {
              "model_id": "d30b8e43fe904809a38feac00347ba1b",
              "version_major": 2,
              "version_minor": 0
            },
            "text/plain": [
              "VBox()"
            ]
          },
          "metadata": {},
          "output_type": "display_data"
        },
        {
          "data": {
            "application/vnd.jupyter.widget-view+json": {
              "model_id": "",
              "version_major": 2,
              "version_minor": 0
            },
            "text/plain": [
              "FloatProgress(value=0.0, bar_style='info', description='Progress:', layout=Layout(height='25px', width='50%'),…"
            ]
          },
          "metadata": {},
          "output_type": "display_data"
        }
      ],
      "source": [
        "surrogateUDF = udf(lambda z: surrogateKey(z),StringType())"
      ]
    },
    {
      "cell_type": "markdown",
      "metadata": {
        "id": "YewG16HMhGzM"
      },
      "source": [
        "Let's test this new UDF with the `orders_df`, use the `withColumn` function to generate a new column `order_key`, and pass to the UDF the `ordernumber` and `status` column as an `array`."
      ]
    },
    {
      "cell_type": "code",
      "execution_count": null,
      "metadata": {
        "execution": {
          "iopub.execute_input": "2024-12-15T17:02:01.291250Z",
          "iopub.status.busy": "2024-12-15T17:02:01.291006Z",
          "iopub.status.idle": "2024-12-15T17:02:08.596143Z",
          "shell.execute_reply": "2024-12-15T17:02:08.595248Z",
          "shell.execute_reply.started": "2024-12-15T17:02:01.291222Z"
        },
        "id": "aWmPRQZRhGzM",
        "outputId": "86d681af-2f81-4f17-9cde-ec0e9cad1a28",
        "colab": {
          "referenced_widgets": [
            "714df0a577214e5ab3baade2f7824f4d",
            ""
          ]
        }
      },
      "outputs": [
        {
          "data": {
            "application/vnd.jupyter.widget-view+json": {
              "model_id": "714df0a577214e5ab3baade2f7824f4d",
              "version_major": 2,
              "version_minor": 0
            },
            "text/plain": [
              "VBox()"
            ]
          },
          "metadata": {},
          "output_type": "display_data"
        },
        {
          "data": {
            "application/vnd.jupyter.widget-view+json": {
              "model_id": "",
              "version_major": 2,
              "version_minor": 0
            },
            "text/plain": [
              "FloatProgress(value=0.0, bar_style='info', description='Progress:', layout=Layout(height='25px', width='50%'),…"
            ]
          },
          "metadata": {},
          "output_type": "display_data"
        },
        {
          "name": "stdout",
          "output_type": "stream",
          "text": [
            "+-----------+-------------------+-------------------+-------------------+-------+--------------------+--------------+--------------------+\n",
            "|ordernumber|          orderdate|       requireddate|        shippeddate| status|            comments|customernumber|           order_key|\n",
            "+-----------+-------------------+-------------------+-------------------+-------+--------------------+--------------+--------------------+\n",
            "|      10100|2003-01-06 00:00:00|2003-01-13 00:00:00|2003-01-10 00:00:00|Shipped|                NULL|           363|80da0f716659e6a4e...|\n",
            "|      10101|2003-01-09 00:00:00|2003-01-18 00:00:00|2003-01-11 00:00:00|Shipped|Check on availabi...|           128|3d9d10b94ae5f34b7...|\n",
            "|      10102|2003-01-10 00:00:00|2003-01-18 00:00:00|2003-01-14 00:00:00|Shipped|                NULL|           181|8fd5dcf6d74c5bec5...|\n",
            "|      10103|2003-01-29 00:00:00|2003-02-07 00:00:00|2003-02-02 00:00:00|Shipped|                NULL|           121|c1e90abbd505a6b80...|\n",
            "|      10104|2003-01-31 00:00:00|2003-02-09 00:00:00|2003-02-01 00:00:00|Shipped|                NULL|           141|5ee04b501bd77201b...|\n",
            "|      10105|2003-02-11 00:00:00|2003-02-21 00:00:00|2003-02-12 00:00:00|Shipped|                NULL|           145|000fa890acda167c2...|\n",
            "|      10106|2003-02-17 00:00:00|2003-02-24 00:00:00|2003-02-21 00:00:00|Shipped|                NULL|           278|f46687ca5dead186a...|\n",
            "|      10107|2003-02-24 00:00:00|2003-03-03 00:00:00|2003-02-26 00:00:00|Shipped|Difficult to nego...|           131|5fe6940228fe99cc3...|\n",
            "|      10108|2003-03-03 00:00:00|2003-03-12 00:00:00|2003-03-08 00:00:00|Shipped|                NULL|           385|3d407b10c7ba922cf...|\n",
            "|      10109|2003-03-10 00:00:00|2003-03-19 00:00:00|2003-03-11 00:00:00|Shipped|Customer requeste...|           486|fa5e626bc0b2aed77...|\n",
            "|      10110|2003-03-18 00:00:00|2003-03-24 00:00:00|2003-03-20 00:00:00|Shipped|                NULL|           187|ad200e71b73dc488b...|\n",
            "|      10111|2003-03-25 00:00:00|2003-03-31 00:00:00|2003-03-30 00:00:00|Shipped|                NULL|           129|3063e95f202c5e180...|\n",
            "|      10112|2003-03-24 00:00:00|2003-04-03 00:00:00|2003-03-29 00:00:00|Shipped|Customer requeste...|           144|ab9e83d5b06dd548b...|\n",
            "|      10113|2003-03-26 00:00:00|2003-04-02 00:00:00|2003-03-27 00:00:00|Shipped|                NULL|           124|32b83351e60c7c83f...|\n",
            "|      10114|2003-04-01 00:00:00|2003-04-07 00:00:00|2003-04-02 00:00:00|Shipped|                NULL|           172|3c5415314bb1353f4...|\n",
            "|      10115|2003-04-04 00:00:00|2003-04-12 00:00:00|2003-04-07 00:00:00|Shipped|                NULL|           424|0db2a99d723315f16...|\n",
            "|      10116|2003-04-11 00:00:00|2003-04-19 00:00:00|2003-04-13 00:00:00|Shipped|                NULL|           381|8b3bdf85986bac860...|\n",
            "|      10117|2003-04-16 00:00:00|2003-04-24 00:00:00|2003-04-17 00:00:00|Shipped|                NULL|           148|d7a854d5bd57e814b...|\n",
            "|      10118|2003-04-21 00:00:00|2003-04-29 00:00:00|2003-04-26 00:00:00|Shipped|Customer has work...|           216|168ed65bc7924b81b...|\n",
            "|      10119|2003-04-28 00:00:00|2003-05-05 00:00:00|2003-05-02 00:00:00|Shipped|                NULL|           382|c5bd680c735e6e25c...|\n",
            "+-----------+-------------------+-------------------+-------------------+-------+--------------------+--------------+--------------------+\n",
            "only showing top 20 rows"
          ]
        }
      ],
      "source": [
        "orders_df.withColumn(\"order_key\",surrogateUDF(array(orders_df.ordernumber,orders_df.status))).show()"
      ]
    },
    {
      "cell_type": "markdown",
      "metadata": {
        "id": "mxSVSoGdhGzM"
      },
      "source": [
        "<a name='4'></a>\n",
        "## 4 - Data Modeling with Spark\n",
        "\n",
        "As mentioned before, you will recreate the star schema from the Week 1 assignment of this course."
      ]
    },
    {
      "cell_type": "markdown",
      "metadata": {
        "id": "fXrZMmYMhGzU"
      },
      "source": [
        "<a name='4.1'></a>\n",
        "### 4.1 - Read the Tables\n",
        "\n",
        "For the first step, you will read the `classicmodels` tables with Spark."
      ]
    },
    {
      "cell_type": "code",
      "execution_count": null,
      "metadata": {
        "execution": {
          "iopub.execute_input": "2024-12-15T17:03:51.793159Z",
          "iopub.status.busy": "2024-12-15T17:03:51.792861Z",
          "iopub.status.idle": "2024-12-15T17:03:52.574184Z",
          "shell.execute_reply": "2024-12-15T17:03:52.573528Z",
          "shell.execute_reply.started": "2024-12-15T17:03:51.793123Z"
        },
        "id": "YUxb7ulrhGzU",
        "outputId": "1ef4674d-7ee8-4261-ab07-fd1f6efb6dba",
        "colab": {
          "referenced_widgets": [
            "1cfed0a3e86e414090d0627e32aa9a86",
            ""
          ]
        }
      },
      "outputs": [
        {
          "data": {
            "application/vnd.jupyter.widget-view+json": {
              "model_id": "1cfed0a3e86e414090d0627e32aa9a86",
              "version_major": 2,
              "version_minor": 0
            },
            "text/plain": [
              "VBox()"
            ]
          },
          "metadata": {},
          "output_type": "display_data"
        },
        {
          "data": {
            "application/vnd.jupyter.widget-view+json": {
              "model_id": "",
              "version_major": 2,
              "version_minor": 0
            },
            "text/plain": [
              "FloatProgress(value=0.0, bar_style='info', description='Progress:', layout=Layout(height='25px', width='50%'),…"
            ]
          },
          "metadata": {},
          "output_type": "display_data"
        }
      ],
      "source": [
        "employees_df = spark.read.jdbc(url=jdbc_url, table=\"classicmodels.employees\", properties=jdbc_properties)\n",
        "offices_df = spark.read.jdbc(url=jdbc_url, table=\"classicmodels.offices\", properties=jdbc_properties)\n",
        "customers_df = spark.read.jdbc(url=jdbc_url, table=\"classicmodels.customers\", properties=jdbc_properties)\n",
        "orderdetails_df = spark.read.jdbc(url=jdbc_url, table=\"classicmodels.orderdetails\", properties=jdbc_properties)\n",
        "productlines_df = spark.read.jdbc(url=jdbc_url, table=\"classicmodels.productlines\", properties=jdbc_properties)\n",
        "products_df = spark.read.jdbc(url=jdbc_url, table=\"classicmodels.products\", properties=jdbc_properties)\n",
        "payments_df = spark.read.jdbc(url=jdbc_url, table=\"classicmodels.payments\", properties=jdbc_properties)"
      ]
    },
    {
      "cell_type": "markdown",
      "metadata": {
        "id": "DBWW41QXhGzV"
      },
      "source": [
        "Register the Spark DataFrames as temporary views, and call them with the same name as their Postgres RDS counterpart."
      ]
    },
    {
      "cell_type": "code",
      "execution_count": null,
      "metadata": {
        "execution": {
          "iopub.execute_input": "2024-12-15T17:03:56.765988Z",
          "iopub.status.busy": "2024-12-15T17:03:56.765712Z",
          "iopub.status.idle": "2024-12-15T17:03:57.036553Z",
          "shell.execute_reply": "2024-12-15T17:03:57.035952Z",
          "shell.execute_reply.started": "2024-12-15T17:03:56.765959Z"
        },
        "id": "8aaYXKy4hGzV",
        "outputId": "5b680c49-628d-4eab-f14c-05cff50dff4d",
        "colab": {
          "referenced_widgets": [
            "ca84134cfb5e44d59990be4438d4d360",
            ""
          ]
        }
      },
      "outputs": [
        {
          "data": {
            "application/vnd.jupyter.widget-view+json": {
              "model_id": "ca84134cfb5e44d59990be4438d4d360",
              "version_major": 2,
              "version_minor": 0
            },
            "text/plain": [
              "VBox()"
            ]
          },
          "metadata": {},
          "output_type": "display_data"
        },
        {
          "data": {
            "application/vnd.jupyter.widget-view+json": {
              "model_id": "",
              "version_major": 2,
              "version_minor": 0
            },
            "text/plain": [
              "FloatProgress(value=0.0, bar_style='info', description='Progress:', layout=Layout(height='25px', width='50%'),…"
            ]
          },
          "metadata": {},
          "output_type": "display_data"
        }
      ],
      "source": [
        "employees_df.createOrReplaceTempView(\"employees\")\n",
        "offices_df.createOrReplaceTempView(\"offices\")\n",
        "customers_df.createOrReplaceTempView(\"customers\")\n",
        "orderdetails_df.createOrReplaceTempView(\"orderdetails\")\n",
        "productlines_df.createOrReplaceTempView(\"productlines\")\n",
        "products_df.createOrReplaceTempView(\"products\")\n",
        "payments_df.createOrReplaceTempView(\"payments\")"
      ]
    },
    {
      "cell_type": "markdown",
      "metadata": {
        "id": "MmYAfhtThGzV"
      },
      "source": [
        "You can verify the schema of any of the tables with the `printSchema` function."
      ]
    },
    {
      "cell_type": "code",
      "execution_count": null,
      "metadata": {
        "execution": {
          "iopub.execute_input": "2024-12-15T17:04:00.311065Z",
          "iopub.status.busy": "2024-12-15T17:04:00.310834Z",
          "iopub.status.idle": "2024-12-15T17:04:00.363023Z",
          "shell.execute_reply": "2024-12-15T17:04:00.362379Z",
          "shell.execute_reply.started": "2024-12-15T17:04:00.311039Z"
        },
        "id": "VFHcz9VNhGzV",
        "outputId": "9cd1683f-92cd-4a7c-a5b3-25fa7cabafa5",
        "colab": {
          "referenced_widgets": [
            "160b4838b38e45a9b298250d9e8c1e10",
            ""
          ]
        }
      },
      "outputs": [
        {
          "data": {
            "application/vnd.jupyter.widget-view+json": {
              "model_id": "160b4838b38e45a9b298250d9e8c1e10",
              "version_major": 2,
              "version_minor": 0
            },
            "text/plain": [
              "VBox()"
            ]
          },
          "metadata": {},
          "output_type": "display_data"
        },
        {
          "data": {
            "application/vnd.jupyter.widget-view+json": {
              "model_id": "",
              "version_major": 2,
              "version_minor": 0
            },
            "text/plain": [
              "FloatProgress(value=0.0, bar_style='info', description='Progress:', layout=Layout(height='25px', width='50%'),…"
            ]
          },
          "metadata": {},
          "output_type": "display_data"
        },
        {
          "name": "stdout",
          "output_type": "stream",
          "text": [
            "root\n",
            " |-- productcode: string (nullable = true)\n",
            " |-- productname: string (nullable = true)\n",
            " |-- productscale: string (nullable = true)\n",
            " |-- productvendor: string (nullable = true)\n",
            " |-- productdescription: string (nullable = true)\n",
            " |-- quantityinstock: short (nullable = true)\n",
            " |-- buyprice: decimal(38,18) (nullable = true)\n",
            " |-- msrp: decimal(38,18) (nullable = true)\n",
            " |-- productline: string (nullable = true)"
          ]
        }
      ],
      "source": [
        "products_df.printSchema()"
      ]
    },
    {
      "cell_type": "markdown",
      "metadata": {
        "id": "iyjmU6I5hGzV"
      },
      "source": [
        "<a name='4.2'></a>\n",
        "### 4.2 - Star Schema\n",
        "\n",
        "Here is the new ERM diagram for the star schema, which was modified to include some transformations. You will use Spark SQL to bring the necessary columns for each table. Then you will perform additional operations to the resulting DataFrame and store the resulting data in the `classicmodels_star_schema` schema in the Postgres RDS.\n",
        "\n",
        "![img](https://dlai-data-engineering.s3.amazonaws.com/labs/c4w3a1-177787/images/star_schema.png)"
      ]
    },
    {
      "cell_type": "markdown",
      "metadata": {
        "id": "iI8c3a5jhGzV"
      },
      "source": [
        "<a name='4.3'></a>\n",
        "### 4.3 - Customers Dimension\n",
        "\n",
        "Let's start with the dimensional tables, first with the `customers` dimension."
      ]
    },
    {
      "cell_type": "markdown",
      "metadata": {
        "id": "vmmZrOd-hGzV"
      },
      "source": [
        "4.3.1. Create a SQL query that brings the relevant columns from the `customers` temporal view and stores the query result in a Spark DataFrame. Follow the instructions to prepare the query:\n",
        "- You need to create a column `customer_number` based on the `customerNumber`, which will be a surrogate key `customer_key` later. This function requires an array of text columns so you will need to `cast()` the `customerNumber` to string.\n",
        "- For this new data model you are required to create the field `contact_name` which is a combination of the `contactFirstName` and `contactLastName` fields. You can use the function `concat()`."
      ]
    },
    {
      "cell_type": "code",
      "execution_count": null,
      "metadata": {
        "execution": {
          "iopub.execute_input": "2024-12-15T17:05:50.827899Z",
          "iopub.status.busy": "2024-12-15T17:05:50.827658Z",
          "iopub.status.idle": "2024-12-15T17:05:51.087038Z",
          "shell.execute_reply": "2024-12-15T17:05:51.086349Z",
          "shell.execute_reply.started": "2024-12-15T17:05:50.827869Z"
        },
        "exercise": [
          "ex01"
        ],
        "tags": [
          "graded"
        ],
        "id": "WKkJMGvvhGzV",
        "outputId": "50694a87-08eb-4ae2-bf11-d45fd20481de",
        "colab": {
          "referenced_widgets": [
            "058384bdc656433dbfaddeb84b73a461",
            ""
          ]
        }
      },
      "outputs": [
        {
          "data": {
            "application/vnd.jupyter.widget-view+json": {
              "model_id": "058384bdc656433dbfaddeb84b73a461",
              "version_major": 2,
              "version_minor": 0
            },
            "text/plain": [
              "VBox()"
            ]
          },
          "metadata": {},
          "output_type": "display_data"
        },
        {
          "data": {
            "application/vnd.jupyter.widget-view+json": {
              "model_id": "",
              "version_major": 2,
              "version_minor": 0
            },
            "text/plain": [
              "FloatProgress(value=0.0, bar_style='info', description='Progress:', layout=Layout(height='25px', width='50%'),…"
            ]
          },
          "metadata": {},
          "output_type": "display_data"
        }
      ],
      "source": [
        "select_query_customers = \"\"\"\n",
        "SELECT\n",
        "    cast(customerNumber as string) as customer_number,\n",
        "    customerName as customer_name,\n",
        "    concat(contactFirstName, contactLastName) as contact_name,\n",
        "    phone as phone,\n",
        "    addressLine1 as address_line_1,\n",
        "    addressLine2 as address_line_2,\n",
        "    postalCode as postal_code,\n",
        "    city as city,\n",
        "    state as state,\n",
        "    country as country,\n",
        "    creditLimit as credit_limit\n",
        "FROM customers\n",
        "\"\"\"\n",
        "\n",
        "dim_customers_df = spark.sql(select_query_customers)"
      ]
    },
    {
      "cell_type": "markdown",
      "metadata": {
        "id": "hedVP1wfhGzV"
      },
      "source": [
        "4.3.2. Now, with the resulting `dim_customers_df` DataFrame:\n",
        "- Call the `surrogateUDF` to generate a surrogate key based on the `customer_number`. You will need to use `array()` function to convert it to an array.\n",
        "- Add the surrogate key using the `withColumn()` function, call the new column `customer_key`.\n",
        "\n",
        "Then perform a select to grab the columns related to the ERM diagram."
      ]
    },
    {
      "cell_type": "code",
      "execution_count": null,
      "metadata": {
        "execution": {
          "iopub.execute_input": "2024-12-15T17:14:11.039815Z",
          "iopub.status.busy": "2024-12-15T17:14:11.039573Z",
          "iopub.status.idle": "2024-12-15T17:14:11.299595Z",
          "shell.execute_reply": "2024-12-15T17:14:11.298955Z",
          "shell.execute_reply.started": "2024-12-15T17:14:11.039789Z"
        },
        "exercise": [
          "ex02"
        ],
        "tags": [
          "graded"
        ],
        "id": "wS9izAEvhGzV",
        "outputId": "3ff31878-4e07-44a6-f040-0e72a0bd4891",
        "colab": {
          "referenced_widgets": [
            "7a3d41616600435a9a83ad9abdec4ccd",
            ""
          ]
        }
      },
      "outputs": [
        {
          "data": {
            "application/vnd.jupyter.widget-view+json": {
              "model_id": "7a3d41616600435a9a83ad9abdec4ccd",
              "version_major": 2,
              "version_minor": 0
            },
            "text/plain": [
              "VBox()"
            ]
          },
          "metadata": {},
          "output_type": "display_data"
        },
        {
          "data": {
            "application/vnd.jupyter.widget-view+json": {
              "model_id": "",
              "version_major": 2,
              "version_minor": 0
            },
            "text/plain": [
              "FloatProgress(value=0.0, bar_style='info', description='Progress:', layout=Layout(height='25px', width='50%'),…"
            ]
          },
          "metadata": {},
          "output_type": "display_data"
        }
      ],
      "source": [
        "dim_customers_df = dim_customers_df.withColumn(\"customer_key\", surrogateUDF(array(\"customer_number\")))\\\n",
        ".select([\"customer_key\",\"customer_name\",\"contact_name\",\"phone\",\"address_line_1\",\"address_line_2\",\"postal_code\",\"city\",\"state\",\"country\",\"credit_limit\"])"
      ]
    },
    {
      "cell_type": "markdown",
      "metadata": {
        "id": "0s3IIvzthGzV"
      },
      "source": [
        "4.3.3. Now, store the final DataFrame into the `classicmodels_star_schema` schema, creating a new table called `dim_customers`."
      ]
    },
    {
      "cell_type": "code",
      "execution_count": null,
      "metadata": {
        "execution": {
          "iopub.execute_input": "2024-12-15T17:14:16.085503Z",
          "iopub.status.busy": "2024-12-15T17:14:16.085144Z",
          "iopub.status.idle": "2024-12-15T17:14:25.411248Z",
          "shell.execute_reply": "2024-12-15T17:14:25.410453Z",
          "shell.execute_reply.started": "2024-12-15T17:14:16.085452Z"
        },
        "exercise": [
          "ex03"
        ],
        "tags": [
          "graded"
        ],
        "id": "JDoFfVqchGzV",
        "outputId": "f979cf2e-ee45-4bb5-d389-146225560403",
        "colab": {
          "referenced_widgets": [
            "537b377501a34b9b9297f818058e13a3",
            ""
          ]
        }
      },
      "outputs": [
        {
          "data": {
            "application/vnd.jupyter.widget-view+json": {
              "model_id": "537b377501a34b9b9297f818058e13a3",
              "version_major": 2,
              "version_minor": 0
            },
            "text/plain": [
              "VBox()"
            ]
          },
          "metadata": {},
          "output_type": "display_data"
        },
        {
          "data": {
            "application/vnd.jupyter.widget-view+json": {
              "model_id": "",
              "version_major": 2,
              "version_minor": 0
            },
            "text/plain": [
              "FloatProgress(value=0.0, bar_style='info', description='Progress:', layout=Layout(height='25px', width='50%'),…"
            ]
          },
          "metadata": {},
          "output_type": "display_data"
        }
      ],
      "source": [
        "dim_customers_df.write.jdbc(url=jdbc_url, table=\"classicmodels_star_schema.dim_customers\", mode=\"overwrite\", properties=jdbc_properties)"
      ]
    },
    {
      "cell_type": "markdown",
      "metadata": {
        "id": "FxLnS7NVhGzV"
      },
      "source": [
        "4.3.4. Check that the table is stored in the schema:"
      ]
    },
    {
      "cell_type": "code",
      "execution_count": null,
      "metadata": {
        "execution": {
          "iopub.execute_input": "2024-12-15T17:15:32.007048Z",
          "iopub.status.busy": "2024-12-15T17:15:32.006801Z",
          "iopub.status.idle": "2024-12-15T17:15:39.301697Z",
          "shell.execute_reply": "2024-12-15T17:15:39.301002Z",
          "shell.execute_reply.started": "2024-12-15T17:15:32.007018Z"
        },
        "exercise": [
          "ex04"
        ],
        "tags": [
          "graded"
        ],
        "id": "Xi8JFejDhGzV",
        "outputId": "281f6127-03e2-4705-c783-324bf9e518dc",
        "colab": {
          "referenced_widgets": [
            "7ed945e35cf14442967c8e36bba8e568",
            ""
          ]
        }
      },
      "outputs": [
        {
          "data": {
            "application/vnd.jupyter.widget-view+json": {
              "model_id": "7ed945e35cf14442967c8e36bba8e568",
              "version_major": 2,
              "version_minor": 0
            },
            "text/plain": [
              "VBox()"
            ]
          },
          "metadata": {},
          "output_type": "display_data"
        },
        {
          "data": {
            "application/vnd.jupyter.widget-view+json": {
              "model_id": "",
              "version_major": 2,
              "version_minor": 0
            },
            "text/plain": [
              "FloatProgress(value=0.0, bar_style='info', description='Progress:', layout=Layout(height='25px', width='50%'),…"
            ]
          },
          "metadata": {},
          "output_type": "display_data"
        },
        {
          "name": "stdout",
          "output_type": "stream",
          "text": [
            "dim_customers column names:  ['customer_key', 'customer_name', 'contact_name', 'phone', 'address_line_1', 'address_line_2', 'postal_code', 'city', 'state', 'country', 'credit_limit']\n",
            "dim_customers number of rows:  122"
          ]
        }
      ],
      "source": [
        "dim_customers_df_check = spark.read.jdbc(url=jdbc_url, table=\"classicmodels_star_schema.dim_customers\", properties=jdbc_properties)\n",
        "\n",
        "print(\"dim_customers column names: \", dim_customers_df_check.columns)\n",
        "\n",
        "dim_customers_row_count = dim_customers_df_check.count()\n",
        "print(\"dim_customers number of rows: \", dim_customers_row_count)"
      ]
    },
    {
      "cell_type": "markdown",
      "metadata": {
        "id": "nkbbKLT0hGzW"
      },
      "source": [
        "##### __Expected Output__\n",
        "\n",
        "```\n",
        "dim_customers column names:  ['customer_key', 'customer_name', 'contact_name', 'phone', 'address_line_1', 'address_line_2', 'postal_code', 'city', 'state', 'country', 'credit_limit']\n",
        "dim_customers number of rows:  122\n",
        "```"
      ]
    },
    {
      "cell_type": "markdown",
      "metadata": {
        "id": "R-5bXgf4hGzW"
      },
      "source": [
        "<a name='4.4'></a>\n",
        "### 4.4 - Products Dimension\n",
        "\n",
        "Continue with the `products` dimension."
      ]
    },
    {
      "cell_type": "markdown",
      "metadata": {
        "id": "C1-bNq5QhGzW"
      },
      "source": [
        "4.4.1. Create a SQL query that brings the relevant columns from the `products` temporal view and stores the query result in a Spark DataFrame. Later you will create a surrogate key `product_key` based on the `productCode`. The `productCode` is already a string, so you don't have to cast it - just select it for now and name as `product_code` for consistency."
      ]
    },
    {
      "cell_type": "code",
      "execution_count": null,
      "metadata": {
        "execution": {
          "iopub.execute_input": "2024-12-15T17:25:16.544175Z",
          "iopub.status.busy": "2024-12-15T17:25:16.543946Z",
          "iopub.status.idle": "2024-12-15T17:25:16.810591Z",
          "shell.execute_reply": "2024-12-15T17:25:16.809929Z",
          "shell.execute_reply.started": "2024-12-15T17:25:16.544149Z"
        },
        "exercise": [
          "ex05"
        ],
        "tags": [
          "graded"
        ],
        "id": "-O9mY_q9hGzW",
        "outputId": "384b6b69-e05c-48cc-bba9-dd12f85c16ff",
        "colab": {
          "referenced_widgets": [
            "3c7699b2af014887b755814da1829032",
            ""
          ]
        }
      },
      "outputs": [
        {
          "data": {
            "application/vnd.jupyter.widget-view+json": {
              "model_id": "3c7699b2af014887b755814da1829032",
              "version_major": 2,
              "version_minor": 0
            },
            "text/plain": [
              "VBox()"
            ]
          },
          "metadata": {},
          "output_type": "display_data"
        },
        {
          "data": {
            "application/vnd.jupyter.widget-view+json": {
              "model_id": "",
              "version_major": 2,
              "version_minor": 0
            },
            "text/plain": [
              "FloatProgress(value=0.0, bar_style='info', description='Progress:', layout=Layout(height='25px', width='50%'),…"
            ]
          },
          "metadata": {},
          "output_type": "display_data"
        }
      ],
      "source": [
        "select_query_products = \"\"\"\n",
        "SELECT\n",
        "    productCode as product_code,\n",
        "    productName as product_name,\n",
        "    products.productLine as product_line,\n",
        "    productScale as product_scale,\n",
        "    productVendor as product_vendor,\n",
        "    productDescription as product_description,\n",
        "    textDescription as product_line_description\n",
        "FROM products\n",
        "JOIN productlines ON products.productLine=productlines.productLine\n",
        "\"\"\"\n",
        "\n",
        "dim_products_df = spark.sql(select_query_products)"
      ]
    },
    {
      "cell_type": "markdown",
      "metadata": {
        "id": "-0dtc2gRhGzW"
      },
      "source": [
        "4.4.2. With the resulting `dim_products_df` DataFrame:\n",
        "- Call the `surrogateUDF` to generate a surrogate key based on the `product_code`. You will need to use `array()` function to convert it to an array.\n",
        "- Add the surrogate key using the `withColumn()` function, call the new column `product_key`.\n",
        "\n",
        "Then perform a select to grab the columns related to the ERM diagram."
      ]
    },
    {
      "cell_type": "code",
      "execution_count": null,
      "metadata": {
        "execution": {
          "iopub.execute_input": "2024-12-15T17:26:30.120173Z",
          "iopub.status.busy": "2024-12-15T17:26:30.119835Z",
          "iopub.status.idle": "2024-12-15T17:26:30.382245Z",
          "shell.execute_reply": "2024-12-15T17:26:30.381587Z",
          "shell.execute_reply.started": "2024-12-15T17:26:30.120129Z"
        },
        "exercise": [
          "ex06"
        ],
        "tags": [
          "graded"
        ],
        "id": "Y01v0f78hGzW",
        "outputId": "6873e072-b6b7-4708-e919-2b4f64ee3842",
        "colab": {
          "referenced_widgets": [
            "4fe99e4747e8498086de27594c2225ce",
            ""
          ]
        }
      },
      "outputs": [
        {
          "data": {
            "application/vnd.jupyter.widget-view+json": {
              "model_id": "4fe99e4747e8498086de27594c2225ce",
              "version_major": 2,
              "version_minor": 0
            },
            "text/plain": [
              "VBox()"
            ]
          },
          "metadata": {},
          "output_type": "display_data"
        },
        {
          "data": {
            "application/vnd.jupyter.widget-view+json": {
              "model_id": "",
              "version_major": 2,
              "version_minor": 0
            },
            "text/plain": [
              "FloatProgress(value=0.0, bar_style='info', description='Progress:', layout=Layout(height='25px', width='50%'),…"
            ]
          },
          "metadata": {},
          "output_type": "display_data"
        }
      ],
      "source": [
        "dim_products_df = dim_products_df.withColumn(\"product_key\", surrogateUDF(array(\"product_code\")))\\\n",
        ".select([\"product_key\",\"product_name\",\"product_line\",\"product_scale\",\"product_vendor\",\"product_description\",\"product_line_description\"])"
      ]
    },
    {
      "cell_type": "markdown",
      "metadata": {
        "id": "8d-Hk3JlhGzW"
      },
      "source": [
        "4.4.3. Store the `dim_products_df` DataFrame into the `classicmodels_star_schema` schema, table `dim_products` (see how it was done in the step 4.3.3)."
      ]
    },
    {
      "cell_type": "code",
      "execution_count": null,
      "metadata": {
        "execution": {
          "iopub.execute_input": "2024-12-15T17:27:56.479502Z",
          "iopub.status.busy": "2024-12-15T17:27:56.479266Z",
          "iopub.status.idle": "2024-12-15T17:28:13.804381Z",
          "shell.execute_reply": "2024-12-15T17:28:13.803761Z",
          "shell.execute_reply.started": "2024-12-15T17:27:56.479477Z"
        },
        "exercise": [
          "ex07"
        ],
        "tags": [
          "graded"
        ],
        "id": "20G08w91hGzW",
        "outputId": "5156490e-7d22-4d21-e0c0-1109175a2cad",
        "colab": {
          "referenced_widgets": [
            "9dbd10da4a6244199b254fb4d131ede0",
            ""
          ]
        }
      },
      "outputs": [
        {
          "data": {
            "application/vnd.jupyter.widget-view+json": {
              "model_id": "9dbd10da4a6244199b254fb4d131ede0",
              "version_major": 2,
              "version_minor": 0
            },
            "text/plain": [
              "VBox()"
            ]
          },
          "metadata": {},
          "output_type": "display_data"
        },
        {
          "data": {
            "application/vnd.jupyter.widget-view+json": {
              "model_id": "",
              "version_major": 2,
              "version_minor": 0
            },
            "text/plain": [
              "FloatProgress(value=0.0, bar_style='info', description='Progress:', layout=Layout(height='25px', width='50%'),…"
            ]
          },
          "metadata": {},
          "output_type": "display_data"
        }
      ],
      "source": [
        "dim_products_df.write.jdbc(url=jdbc_url, table=\"classicmodels_star_schema.dim_products\", mode=\"overwrite\", properties=jdbc_properties)"
      ]
    },
    {
      "cell_type": "markdown",
      "metadata": {
        "id": "R8fZtElPhGzW"
      },
      "source": [
        "4.4.4. Check your work:"
      ]
    },
    {
      "cell_type": "code",
      "execution_count": null,
      "metadata": {
        "execution": {
          "iopub.execute_input": "2024-12-15T17:28:46.116136Z",
          "iopub.status.busy": "2024-12-15T17:28:46.115897Z",
          "iopub.status.idle": "2024-12-15T17:28:46.873023Z",
          "shell.execute_reply": "2024-12-15T17:28:46.872312Z",
          "shell.execute_reply.started": "2024-12-15T17:28:46.116109Z"
        },
        "exercise": [
          "ex08"
        ],
        "tags": [
          "graded"
        ],
        "id": "AP91vWWRhGzW",
        "outputId": "a5a3bdfe-9989-4bee-ea1e-875367893556",
        "colab": {
          "referenced_widgets": [
            "25aa7b14a20948d9ae19c9803bd586a5",
            ""
          ]
        }
      },
      "outputs": [
        {
          "data": {
            "application/vnd.jupyter.widget-view+json": {
              "model_id": "25aa7b14a20948d9ae19c9803bd586a5",
              "version_major": 2,
              "version_minor": 0
            },
            "text/plain": [
              "VBox()"
            ]
          },
          "metadata": {},
          "output_type": "display_data"
        },
        {
          "data": {
            "application/vnd.jupyter.widget-view+json": {
              "model_id": "",
              "version_major": 2,
              "version_minor": 0
            },
            "text/plain": [
              "FloatProgress(value=0.0, bar_style='info', description='Progress:', layout=Layout(height='25px', width='50%'),…"
            ]
          },
          "metadata": {},
          "output_type": "display_data"
        },
        {
          "name": "stdout",
          "output_type": "stream",
          "text": [
            "dim_products column names:  ['product_key', 'product_name', 'product_line', 'product_scale', 'product_vendor', 'product_description', 'product_line_description']\n",
            "dim_products number of rows:  110"
          ]
        }
      ],
      "source": [
        "dim_products_df_check = spark.read.jdbc(url=jdbc_url, table=\"classicmodels_star_schema.dim_products\", properties=jdbc_properties)\n",
        "\n",
        "print(\"dim_products column names: \", dim_products_df_check.columns)\n",
        "\n",
        "dim_products_row_count = dim_products_df_check.count()\n",
        "print(\"dim_products number of rows: \", dim_products_row_count)"
      ]
    },
    {
      "cell_type": "markdown",
      "metadata": {
        "id": "U_RofQAyhGzW"
      },
      "source": [
        "##### __Expected Output__\n",
        "\n",
        "```\n",
        "dim_products column names:  ['product_key', 'product_name', 'product_line', 'product_scale', 'product_vendor', 'product_description', 'product_line_description']\n",
        "dim_products number of rows:  110\n",
        "```"
      ]
    },
    {
      "cell_type": "markdown",
      "metadata": {
        "id": "93L7AsyahGzW"
      },
      "source": [
        "<a name='4.5'></a>\n",
        "### 4.5 - Offices Dimension\n",
        "\n",
        "Now, let's proceed with the `offices` dimension."
      ]
    },
    {
      "cell_type": "markdown",
      "metadata": {
        "id": "GwVjNkk2hGzX"
      },
      "source": [
        "4.5.1. Create a SQL query that brings the relevant columns from the `offices` temporal table and stores the query result in a Spark dataframe. Later you will create a surrogate key `office_key` based on the `officeCode`. The `officeCode` is already a string, so you don't have to cast it - just select it for now and name as `office_code` for consistency."
      ]
    },
    {
      "cell_type": "code",
      "execution_count": null,
      "metadata": {
        "execution": {
          "iopub.execute_input": "2024-12-15T17:29:30.521258Z",
          "iopub.status.busy": "2024-12-15T17:29:30.521022Z",
          "iopub.status.idle": "2024-12-15T17:29:30.585452Z",
          "shell.execute_reply": "2024-12-15T17:29:30.584884Z",
          "shell.execute_reply.started": "2024-12-15T17:29:30.521231Z"
        },
        "exercise": [
          "ex09"
        ],
        "tags": [
          "graded"
        ],
        "id": "ys63dAUshGzX",
        "outputId": "6a75b104-1d9c-455e-d4c7-ef7f58c4db94",
        "colab": {
          "referenced_widgets": [
            "ba5819ad947e4945a2495e3f2aa84a08",
            ""
          ]
        }
      },
      "outputs": [
        {
          "data": {
            "application/vnd.jupyter.widget-view+json": {
              "model_id": "ba5819ad947e4945a2495e3f2aa84a08",
              "version_major": 2,
              "version_minor": 0
            },
            "text/plain": [
              "VBox()"
            ]
          },
          "metadata": {},
          "output_type": "display_data"
        },
        {
          "data": {
            "application/vnd.jupyter.widget-view+json": {
              "model_id": "",
              "version_major": 2,
              "version_minor": 0
            },
            "text/plain": [
              "FloatProgress(value=0.0, bar_style='info', description='Progress:', layout=Layout(height='25px', width='50%'),…"
            ]
          },
          "metadata": {},
          "output_type": "display_data"
        }
      ],
      "source": [
        "select_query_offices = \"\"\"\n",
        "SELECT\n",
        "    officeCode as office_code,\n",
        "    postalCode as postal_code,\n",
        "    city as city,\n",
        "    state as state,\n",
        "    country as country,\n",
        "    territory as territory\n",
        "FROM offices\n",
        "\"\"\"\n",
        "\n",
        "dim_offices_df = spark.sql(select_query_offices)"
      ]
    },
    {
      "cell_type": "markdown",
      "metadata": {
        "id": "Mp-MDd12hGzX"
      },
      "source": [
        "4.5.2. With the resulting `dim_offices_df` DataFrame:\n",
        "- Call the `surrogateUDF` to generate a surrogate key based on the `office_code`. You will need to use `array()` function to convert it to an array.\n",
        "- Add the surrogate key using the `withColumn()` function, call the new column `office_key`.\n",
        "\n",
        "Then perform a select to grab the columns related to the ERM diagram."
      ]
    },
    {
      "cell_type": "code",
      "execution_count": null,
      "metadata": {
        "execution": {
          "iopub.execute_input": "2024-12-15T17:30:10.808787Z",
          "iopub.status.busy": "2024-12-15T17:30:10.808559Z",
          "iopub.status.idle": "2024-12-15T17:30:11.064187Z",
          "shell.execute_reply": "2024-12-15T17:30:11.063409Z",
          "shell.execute_reply.started": "2024-12-15T17:30:10.808761Z"
        },
        "exercise": [
          "ex10"
        ],
        "tags": [
          "graded"
        ],
        "id": "AA4wFC9IhGzX",
        "outputId": "5a0a923a-b5c4-4295-d9da-608c86d1b149",
        "colab": {
          "referenced_widgets": [
            "d32ff2be9d4a4409ba6cdf75976d7975",
            ""
          ]
        }
      },
      "outputs": [
        {
          "data": {
            "application/vnd.jupyter.widget-view+json": {
              "model_id": "d32ff2be9d4a4409ba6cdf75976d7975",
              "version_major": 2,
              "version_minor": 0
            },
            "text/plain": [
              "VBox()"
            ]
          },
          "metadata": {},
          "output_type": "display_data"
        },
        {
          "data": {
            "application/vnd.jupyter.widget-view+json": {
              "model_id": "",
              "version_major": 2,
              "version_minor": 0
            },
            "text/plain": [
              "FloatProgress(value=0.0, bar_style='info', description='Progress:', layout=Layout(height='25px', width='50%'),…"
            ]
          },
          "metadata": {},
          "output_type": "display_data"
        }
      ],
      "source": [
        "dim_offices_df = dim_offices_df.withColumn(\"office_key\", surrogateUDF(array(\"office_code\")))\\\n",
        ".select([\"office_key\",\"postal_code\",\"city\",\"state\",\"country\",\"territory\"])"
      ]
    },
    {
      "cell_type": "markdown",
      "metadata": {
        "id": "pp1a291RhGzX"
      },
      "source": [
        "4.5.3. Store the `dim_offices_df` DataFrame into the `classicmodels_star_schema` schema, table `dim_offices`."
      ]
    },
    {
      "cell_type": "code",
      "execution_count": null,
      "metadata": {
        "execution": {
          "iopub.execute_input": "2024-12-15T17:30:32.814201Z",
          "iopub.status.busy": "2024-12-15T17:30:32.813955Z",
          "iopub.status.idle": "2024-12-15T17:30:42.113782Z",
          "shell.execute_reply": "2024-12-15T17:30:42.113099Z",
          "shell.execute_reply.started": "2024-12-15T17:30:32.814173Z"
        },
        "exercise": [
          "ex11"
        ],
        "tags": [
          "graded"
        ],
        "id": "dO9XYBxdhGzX",
        "outputId": "699390a1-ffdc-496f-a68e-98b48721d51c",
        "colab": {
          "referenced_widgets": [
            "e12158125eb2438f9291bef8a33059ea",
            ""
          ]
        }
      },
      "outputs": [
        {
          "data": {
            "application/vnd.jupyter.widget-view+json": {
              "model_id": "e12158125eb2438f9291bef8a33059ea",
              "version_major": 2,
              "version_minor": 0
            },
            "text/plain": [
              "VBox()"
            ]
          },
          "metadata": {},
          "output_type": "display_data"
        },
        {
          "data": {
            "application/vnd.jupyter.widget-view+json": {
              "model_id": "",
              "version_major": 2,
              "version_minor": 0
            },
            "text/plain": [
              "FloatProgress(value=0.0, bar_style='info', description='Progress:', layout=Layout(height='25px', width='50%'),…"
            ]
          },
          "metadata": {},
          "output_type": "display_data"
        }
      ],
      "source": [
        "dim_offices_df.write.jdbc(url=jdbc_url, table=\"classicmodels_star_schema.dim_offices\", mode=\"overwrite\", properties=jdbc_properties)"
      ]
    },
    {
      "cell_type": "markdown",
      "metadata": {
        "id": "Vko7CC7ohGzX"
      },
      "source": [
        "4.5.4. Check your work:"
      ]
    },
    {
      "cell_type": "code",
      "execution_count": null,
      "metadata": {
        "execution": {
          "iopub.execute_input": "2024-12-15T17:30:42.115509Z",
          "iopub.status.busy": "2024-12-15T17:30:42.115245Z",
          "iopub.status.idle": "2024-12-15T17:30:42.875472Z",
          "shell.execute_reply": "2024-12-15T17:30:42.874739Z",
          "shell.execute_reply.started": "2024-12-15T17:30:42.115469Z"
        },
        "exercise": [
          "ex12"
        ],
        "tags": [
          "graded"
        ],
        "id": "agxOf5dfhGzX",
        "outputId": "3f1057f3-beb4-4e00-ae00-d772dc1f4d7d",
        "colab": {
          "referenced_widgets": [
            "8da232dca416464b8e1b325f5d297176",
            ""
          ]
        }
      },
      "outputs": [
        {
          "data": {
            "application/vnd.jupyter.widget-view+json": {
              "model_id": "8da232dca416464b8e1b325f5d297176",
              "version_major": 2,
              "version_minor": 0
            },
            "text/plain": [
              "VBox()"
            ]
          },
          "metadata": {},
          "output_type": "display_data"
        },
        {
          "data": {
            "application/vnd.jupyter.widget-view+json": {
              "model_id": "",
              "version_major": 2,
              "version_minor": 0
            },
            "text/plain": [
              "FloatProgress(value=0.0, bar_style='info', description='Progress:', layout=Layout(height='25px', width='50%'),…"
            ]
          },
          "metadata": {},
          "output_type": "display_data"
        },
        {
          "name": "stdout",
          "output_type": "stream",
          "text": [
            "dim_offices column names:  ['office_key', 'postal_code', 'city', 'state', 'country', 'territory']\n",
            "dim_offices number of rows:  7"
          ]
        }
      ],
      "source": [
        "dim_offices_df_check = spark.read.jdbc(url=jdbc_url, table=\"classicmodels_star_schema.dim_offices\", properties=jdbc_properties)\n",
        "\n",
        "print(\"dim_offices column names: \", dim_offices_df_check.columns)\n",
        "\n",
        "dim_offices_row_count = dim_offices_df_check.count()\n",
        "print(\"dim_offices number of rows: \", dim_offices_row_count)"
      ]
    },
    {
      "cell_type": "markdown",
      "metadata": {
        "id": "nXIes9NzhGzX"
      },
      "source": [
        "##### __Expected Output__\n",
        "\n",
        "```\n",
        "dim_offices column names:  ['office_key', 'postal_code', 'city', 'state', 'country', 'territory']\n",
        "dim_offices number of rows:  7\n",
        "```"
      ]
    },
    {
      "cell_type": "markdown",
      "metadata": {
        "id": "XVmcnGl6hGzX"
      },
      "source": [
        "<a name='4.6'></a>\n",
        "### 4.6 - Employees Dimension\n",
        "\n",
        "Let's continue with the `employees` dimension."
      ]
    },
    {
      "cell_type": "markdown",
      "metadata": {
        "id": "R02RWLhPhGzX"
      },
      "source": [
        "4.6.1. Follow similar steps to create `employees` dimension. There will be a surrogate key `employee_key` based on the `employeeNumber`. You'll need to create a column `employee_number` based on the `employeeNumber`. Cast to string with the function `cast()`."
      ]
    },
    {
      "cell_type": "code",
      "execution_count": null,
      "metadata": {
        "execution": {
          "iopub.execute_input": "2024-12-15T17:31:43.569225Z",
          "iopub.status.busy": "2024-12-15T17:31:43.568979Z",
          "iopub.status.idle": "2024-12-15T17:31:43.626311Z",
          "shell.execute_reply": "2024-12-15T17:31:43.625476Z",
          "shell.execute_reply.started": "2024-12-15T17:31:43.569197Z"
        },
        "exercise": [
          "ex13"
        ],
        "tags": [
          "graded"
        ],
        "id": "1rMU4Ke6hGzX",
        "outputId": "13c3da30-b1de-4d46-970a-0c302897d92e",
        "colab": {
          "referenced_widgets": [
            "350dce71cd354e3d9b835b7c478a66a9",
            ""
          ]
        }
      },
      "outputs": [
        {
          "data": {
            "application/vnd.jupyter.widget-view+json": {
              "model_id": "350dce71cd354e3d9b835b7c478a66a9",
              "version_major": 2,
              "version_minor": 0
            },
            "text/plain": [
              "VBox()"
            ]
          },
          "metadata": {},
          "output_type": "display_data"
        },
        {
          "data": {
            "application/vnd.jupyter.widget-view+json": {
              "model_id": "",
              "version_major": 2,
              "version_minor": 0
            },
            "text/plain": [
              "FloatProgress(value=0.0, bar_style='info', description='Progress:', layout=Layout(height='25px', width='50%'),…"
            ]
          },
          "metadata": {},
          "output_type": "display_data"
        }
      ],
      "source": [
        "select_query_employees = \"\"\"\n",
        "SELECT\n",
        "    cast(employeeNumber as string) as employee_number,\n",
        "    lastName as employee_last_name,\n",
        "    firstName as employee_first_name,\n",
        "    jobTitle as job_title,\n",
        "    email as email\n",
        "FROM employees\n",
        "\"\"\"\n",
        "\n",
        "dim_employees_df = spark.sql(select_query_employees)"
      ]
    },
    {
      "cell_type": "markdown",
      "metadata": {
        "id": "1GvloRuShGzY"
      },
      "source": [
        "4.6.2. With the resulting `dim_employees_df` DataFrame:\n",
        "- Call the `surrogateUDF` to generate a surrogate key based on the `employee_number`. You will need to use `array()` function to convert it to an array.\n",
        "- Add the surrogate key using the `withColumn()` function, call the new column `employee_key`.\n",
        "\n",
        "Then perform a select to grab the columns related to the ERM diagram."
      ]
    },
    {
      "cell_type": "code",
      "execution_count": null,
      "metadata": {
        "execution": {
          "iopub.execute_input": "2024-12-15T17:32:14.200118Z",
          "iopub.status.busy": "2024-12-15T17:32:14.199876Z",
          "iopub.status.idle": "2024-12-15T17:32:14.260480Z",
          "shell.execute_reply": "2024-12-15T17:32:14.259720Z",
          "shell.execute_reply.started": "2024-12-15T17:32:14.200091Z"
        },
        "exercise": [
          "ex14"
        ],
        "tags": [
          "graded"
        ],
        "id": "v0rIE0yxhGzY",
        "outputId": "7e38e527-e564-49bb-c708-d193de00961e",
        "colab": {
          "referenced_widgets": [
            "6e7efd0270fd4e688a6a120999e2850c",
            ""
          ]
        }
      },
      "outputs": [
        {
          "data": {
            "application/vnd.jupyter.widget-view+json": {
              "model_id": "6e7efd0270fd4e688a6a120999e2850c",
              "version_major": 2,
              "version_minor": 0
            },
            "text/plain": [
              "VBox()"
            ]
          },
          "metadata": {},
          "output_type": "display_data"
        },
        {
          "data": {
            "application/vnd.jupyter.widget-view+json": {
              "model_id": "",
              "version_major": 2,
              "version_minor": 0
            },
            "text/plain": [
              "FloatProgress(value=0.0, bar_style='info', description='Progress:', layout=Layout(height='25px', width='50%'),…"
            ]
          },
          "metadata": {},
          "output_type": "display_data"
        }
      ],
      "source": [
        "dim_employees_df = dim_employees_df.withColumn(\"employee_key\", surrogateUDF(array(\"employee_number\")))\\\n",
        ".select([\"employee_key\",\"employee_last_name\",\"employee_first_name\",\"email\"])"
      ]
    },
    {
      "cell_type": "markdown",
      "metadata": {
        "execution": {
          "iopub.execute_input": "2024-06-21T03:29:22.461906Z",
          "iopub.status.busy": "2024-06-21T03:29:22.461570Z"
        },
        "id": "OegOxK9VhGzY"
      },
      "source": [
        "4.6.3. Store the `dim_employees_df` DataFrame into the `classicmodels_star_schema` schema, table `dim_employees`."
      ]
    },
    {
      "cell_type": "code",
      "execution_count": null,
      "metadata": {
        "execution": {
          "iopub.execute_input": "2024-12-15T17:32:34.752679Z",
          "iopub.status.busy": "2024-12-15T17:32:34.752422Z",
          "iopub.status.idle": "2024-12-15T17:32:44.048312Z",
          "shell.execute_reply": "2024-12-15T17:32:44.047687Z",
          "shell.execute_reply.started": "2024-12-15T17:32:34.752650Z"
        },
        "exercise": [
          "ex15"
        ],
        "tags": [
          "graded"
        ],
        "id": "ZjByso7DhGzY",
        "outputId": "c4efff59-12de-4702-d632-eb9576b38bb8",
        "colab": {
          "referenced_widgets": [
            "f1755171c2ac4d38947fd1d62a507a5e",
            ""
          ]
        }
      },
      "outputs": [
        {
          "data": {
            "application/vnd.jupyter.widget-view+json": {
              "model_id": "f1755171c2ac4d38947fd1d62a507a5e",
              "version_major": 2,
              "version_minor": 0
            },
            "text/plain": [
              "VBox()"
            ]
          },
          "metadata": {},
          "output_type": "display_data"
        },
        {
          "data": {
            "application/vnd.jupyter.widget-view+json": {
              "model_id": "",
              "version_major": 2,
              "version_minor": 0
            },
            "text/plain": [
              "FloatProgress(value=0.0, bar_style='info', description='Progress:', layout=Layout(height='25px', width='50%'),…"
            ]
          },
          "metadata": {},
          "output_type": "display_data"
        }
      ],
      "source": [
        "dim_employees_df.write.jdbc(url=jdbc_url, table=\"classicmodels_star_schema.dim_employees\", mode=\"overwrite\", properties=jdbc_properties)"
      ]
    },
    {
      "cell_type": "markdown",
      "metadata": {
        "id": "IEKK_rGLhGzY"
      },
      "source": [
        "4.6.4. Check your work:"
      ]
    },
    {
      "cell_type": "code",
      "execution_count": null,
      "metadata": {
        "execution": {
          "iopub.execute_input": "2024-12-15T17:32:44.049515Z",
          "iopub.status.busy": "2024-12-15T17:32:44.049347Z",
          "iopub.status.idle": "2024-12-15T17:32:44.808892Z",
          "shell.execute_reply": "2024-12-15T17:32:44.808188Z",
          "shell.execute_reply.started": "2024-12-15T17:32:44.049492Z"
        },
        "exercise": [
          "ex16"
        ],
        "tags": [
          "graded"
        ],
        "id": "T8-IsdlIhGzY",
        "outputId": "2eb11ba5-68b6-4ef8-9198-a63c9789c917",
        "colab": {
          "referenced_widgets": [
            "31bf6729a2cd40ac924d9140301bab57",
            ""
          ]
        }
      },
      "outputs": [
        {
          "data": {
            "application/vnd.jupyter.widget-view+json": {
              "model_id": "31bf6729a2cd40ac924d9140301bab57",
              "version_major": 2,
              "version_minor": 0
            },
            "text/plain": [
              "VBox()"
            ]
          },
          "metadata": {},
          "output_type": "display_data"
        },
        {
          "data": {
            "application/vnd.jupyter.widget-view+json": {
              "model_id": "",
              "version_major": 2,
              "version_minor": 0
            },
            "text/plain": [
              "FloatProgress(value=0.0, bar_style='info', description='Progress:', layout=Layout(height='25px', width='50%'),…"
            ]
          },
          "metadata": {},
          "output_type": "display_data"
        },
        {
          "name": "stdout",
          "output_type": "stream",
          "text": [
            "dim_employees column names:  ['employee_key', 'employee_last_name', 'employee_first_name', 'email']\n",
            "dim_employees number of rows:  23"
          ]
        }
      ],
      "source": [
        "dim_employees_df_check = spark.read.jdbc(url=jdbc_url, table=\"classicmodels_star_schema.dim_employees\", properties=jdbc_properties)\n",
        "\n",
        "print(\"dim_employees column names: \", dim_employees_df_check.columns)\n",
        "\n",
        "dim_employees_row_count = dim_employees_df_check.count()\n",
        "print(\"dim_employees number of rows: \", dim_employees_row_count)"
      ]
    },
    {
      "cell_type": "markdown",
      "metadata": {
        "id": "0UTHOWazhGzY"
      },
      "source": [
        "##### __Expected Output__\n",
        "\n",
        "```\n",
        "dim_employees column names:  ['employee_key', 'employee_last_name', 'employee_first_name', 'email']\n",
        "dim_employees number of rows:  23\n",
        "```"
      ]
    },
    {
      "cell_type": "markdown",
      "metadata": {
        "id": "yI1jzEg5hGzY"
      },
      "source": [
        "<a name='4.7'></a>\n",
        "### 4.7 - Date Dimension\n",
        "\n",
        "4.7.1. As in the `dbt` lab, you will limit the date's dimension table to the dates that appear in the `orders` table. You are already provided with the date range required to create your dimension table. In the following cell, you will:\n",
        "\n",
        "- Use the `to_date` function to enclose the `start_date` and `end_date` strings to convert them into actual date types.\n",
        "- Use the `sequence` function from `psypark.sql.functions` to generate a sequence of values from the `start_date` to the `end_date`. Note that the third parameter is the interval, which has been set to `interval 1 day`. The result from the `sequence` function is an array of values.\n",
        "- Finally, enclose the `sequence` function into the `explode` function. This function takes an array and returns one row for each element in the array. Note how the column has been named `date_day`."
      ]
    },
    {
      "cell_type": "code",
      "execution_count": null,
      "metadata": {
        "execution": {
          "iopub.execute_input": "2024-12-15T17:33:20.041299Z",
          "iopub.status.busy": "2024-12-15T17:33:20.041041Z",
          "iopub.status.idle": "2024-12-15T17:33:20.309621Z",
          "shell.execute_reply": "2024-12-15T17:33:20.308921Z",
          "shell.execute_reply.started": "2024-12-15T17:33:20.041269Z"
        },
        "exercise": [
          "ex17"
        ],
        "tags": [
          "graded"
        ],
        "id": "M7u5bfrXhGzY",
        "outputId": "a0aa1b42-2abe-48e7-86f3-303443958386",
        "colab": {
          "referenced_widgets": [
            "674305a1975948798f54b201b144c720",
            ""
          ]
        }
      },
      "outputs": [
        {
          "data": {
            "application/vnd.jupyter.widget-view+json": {
              "model_id": "674305a1975948798f54b201b144c720",
              "version_major": 2,
              "version_minor": 0
            },
            "text/plain": [
              "VBox()"
            ]
          },
          "metadata": {},
          "output_type": "display_data"
        },
        {
          "data": {
            "application/vnd.jupyter.widget-view+json": {
              "model_id": "",
              "version_major": 2,
              "version_minor": 0
            },
            "text/plain": [
              "FloatProgress(value=0.0, bar_style='info', description='Progress:', layout=Layout(height='25px', width='50%'),…"
            ]
          },
          "metadata": {},
          "output_type": "display_data"
        }
      ],
      "source": [
        "from pyspark.sql.functions import col, explode, sequence, year, month, dayofweek, dayofmonth, dayofyear, weekofyear, date_format, lit\n",
        "from pyspark.sql.types import DateType\n",
        "\n",
        "# Date range\n",
        "start_date = \"2003-01-01\"\n",
        "end_date = \"2005-12-31\"\n",
        "\n",
        "date_range_df = spark.sql(f\"SELECT explode(sequence(to_date('{start_date}'), to_date('{end_date}'), interval 1 day)) as date_day\")"
      ]
    },
    {
      "cell_type": "markdown",
      "metadata": {
        "id": "rfIWtGNLhGzY"
      },
      "source": [
        "4.7.2. Based on the `date_range_df` DataFrame, you are going to create the following columns by using the `withColumn()`:\n",
        "\n",
        "- Get the day of the week with the `dayofweek()` function; store it at the column `day_of_week`.\n",
        "- Get the day of the month with the `dayofmonth()` function; store it at the column `day_of_month`.\n",
        "- Get the number of the day in the year with the `dayofyear()` function; store it in the column `day_of_year`.\n",
        "- Get the number of the week in the year with the `weekofyear()` function; store it in the column `week_of_year`.\n",
        "- Get the the month with the `month()` function; store it at the column `month_of_year`.\n",
        "- Get the the year with the `year()` function; store it at the column `year_number`.\n",
        "\n",
        "Also, you will be creating a column `month_name`, but the code is already complete for that.\n",
        "\n",
        "In addition, you are going to create the `quarter_of_year` column by creating a new UDF. This time, instead of using the UDF as an SQL function with SparkSQL, you will register it as a Python UDF.\n",
        "\n",
        "- Complete the `get_quarter_of_year()` function by making an integer division between `date.month - 1` and 3 (with the `//` operator). Then, add 1 and return the value.\n",
        "- Call the `udf()` function and pass it as parameters to the function you just created and the `IntegerType()` function."
      ]
    },
    {
      "cell_type": "code",
      "execution_count": null,
      "metadata": {
        "execution": {
          "iopub.execute_input": "2024-12-15T17:36:20.780985Z",
          "iopub.status.busy": "2024-12-15T17:36:20.780751Z",
          "iopub.status.idle": "2024-12-15T17:36:20.842856Z",
          "shell.execute_reply": "2024-12-15T17:36:20.842077Z",
          "shell.execute_reply.started": "2024-12-15T17:36:20.780959Z"
        },
        "tags": [],
        "id": "_XrJKc9IhGzY",
        "outputId": "17e6c57d-fcd2-463e-e145-6a0cd5f473a6",
        "colab": {
          "referenced_widgets": [
            "011558c9715645c4b7e73b0d9dfa1e99",
            ""
          ]
        }
      },
      "outputs": [
        {
          "data": {
            "application/vnd.jupyter.widget-view+json": {
              "model_id": "011558c9715645c4b7e73b0d9dfa1e99",
              "version_major": 2,
              "version_minor": 0
            },
            "text/plain": [
              "VBox()"
            ]
          },
          "metadata": {},
          "output_type": "display_data"
        },
        {
          "data": {
            "application/vnd.jupyter.widget-view+json": {
              "model_id": "",
              "version_major": 2,
              "version_minor": 0
            },
            "text/plain": [
              "FloatProgress(value=0.0, bar_style='info', description='Progress:', layout=Layout(height='25px', width='50%'),…"
            ]
          },
          "metadata": {},
          "output_type": "display_data"
        }
      ],
      "source": [
        "def get_quarter_of_year(date):\n",
        "    return (date.month - 1) // 3 + 1\n",
        "\n",
        "get_quarter_of_year_udf = udf(get_quarter_of_year, IntegerType())"
      ]
    },
    {
      "cell_type": "code",
      "execution_count": null,
      "metadata": {
        "execution": {
          "iopub.execute_input": "2024-12-15T17:37:45.674474Z",
          "iopub.status.busy": "2024-12-15T17:37:45.674132Z",
          "iopub.status.idle": "2024-12-15T17:37:52.985936Z",
          "shell.execute_reply": "2024-12-15T17:37:52.985003Z",
          "shell.execute_reply.started": "2024-12-15T17:37:45.674430Z"
        },
        "exercise": [
          "ex18"
        ],
        "tags": [
          "graded"
        ],
        "id": "yrT48XXchGzY",
        "outputId": "0da355cd-c4cf-4def-8805-8a45e37c8936",
        "colab": {
          "referenced_widgets": [
            "3184e13715644bba9ea604c01dc6fa24",
            ""
          ]
        }
      },
      "outputs": [
        {
          "data": {
            "application/vnd.jupyter.widget-view+json": {
              "model_id": "3184e13715644bba9ea604c01dc6fa24",
              "version_major": 2,
              "version_minor": 0
            },
            "text/plain": [
              "VBox()"
            ]
          },
          "metadata": {},
          "output_type": "display_data"
        },
        {
          "data": {
            "application/vnd.jupyter.widget-view+json": {
              "model_id": "",
              "version_major": 2,
              "version_minor": 0
            },
            "text/plain": [
              "FloatProgress(value=0.0, bar_style='info', description='Progress:', layout=Layout(height='25px', width='50%'),…"
            ]
          },
          "metadata": {},
          "output_type": "display_data"
        },
        {
          "name": "stdout",
          "output_type": "stream",
          "text": [
            "+----------+-----------+------------+-----------+------------+-------------+-----------+----------+---------------+\n",
            "|  date_day|day_of_week|day_of_month|day_of_year|week_of_year|month_of_year|year_number|month_name|quarter_of_year|\n",
            "+----------+-----------+------------+-----------+------------+-------------+-----------+----------+---------------+\n",
            "|2003-01-01|          4|           4|          1|           1|            1|       2003|   January|              1|\n",
            "|2003-01-02|          5|           5|          2|           1|            1|       2003|   January|              1|\n",
            "|2003-01-03|          6|           6|          3|           1|            1|       2003|   January|              1|\n",
            "|2003-01-04|          7|           7|          4|           1|            1|       2003|   January|              1|\n",
            "|2003-01-05|          1|           1|          5|           1|            1|       2003|   January|              1|\n",
            "|2003-01-06|          2|           2|          6|           2|            1|       2003|   January|              1|\n",
            "|2003-01-07|          3|           3|          7|           2|            1|       2003|   January|              1|\n",
            "|2003-01-08|          4|           4|          8|           2|            1|       2003|   January|              1|\n",
            "|2003-01-09|          5|           5|          9|           2|            1|       2003|   January|              1|\n",
            "|2003-01-10|          6|           6|         10|           2|            1|       2003|   January|              1|\n",
            "|2003-01-11|          7|           7|         11|           2|            1|       2003|   January|              1|\n",
            "|2003-01-12|          1|           1|         12|           2|            1|       2003|   January|              1|\n",
            "|2003-01-13|          2|           2|         13|           3|            1|       2003|   January|              1|\n",
            "|2003-01-14|          3|           3|         14|           3|            1|       2003|   January|              1|\n",
            "|2003-01-15|          4|           4|         15|           3|            1|       2003|   January|              1|\n",
            "|2003-01-16|          5|           5|         16|           3|            1|       2003|   January|              1|\n",
            "|2003-01-17|          6|           6|         17|           3|            1|       2003|   January|              1|\n",
            "|2003-01-18|          7|           7|         18|           3|            1|       2003|   January|              1|\n",
            "|2003-01-19|          1|           1|         19|           3|            1|       2003|   January|              1|\n",
            "|2003-01-20|          2|           2|         20|           4|            1|       2003|   January|              1|\n",
            "+----------+-----------+------------+-----------+------------+-------------+-----------+----------+---------------+\n",
            "only showing top 20 rows"
          ]
        }
      ],
      "source": [
        "date_dim_df = date_range_df.withColumn(\"day_of_week\", dayofweek(\"date_day\")) \\\n",
        "    .withColumn(\"day_of_month\", dayofweek(\"date_day\")) \\\n",
        "    .withColumn(\"day_of_year\", dayofyear(\"date_day\")) \\\n",
        "    .withColumn(\"week_of_year\", weekofyear(\"date_day\")) \\\n",
        "    .withColumn(\"month_of_year\", month(\"date_day\")) \\\n",
        "    .withColumn(\"year_number\", year(\"date_day\")) \\\n",
        "    .withColumn(\"month_name\", date_format(\"date_day\", \"MMMM\")) \\\n",
        "    .withColumn(\"quarter_of_year\", get_quarter_of_year_udf(\"date_day\"))\n",
        "\n",
        "# Show the result\n",
        "date_dim_df.show()"
      ]
    },
    {
      "cell_type": "markdown",
      "metadata": {
        "id": "KUgG5oixhGzZ"
      },
      "source": [
        "4.7.3. Store the `date_dim_df` dataframe into the `classicmodels_star_schema` schema, table `dim_date`."
      ]
    },
    {
      "cell_type": "code",
      "execution_count": null,
      "metadata": {
        "execution": {
          "iopub.execute_input": "2024-12-15T17:38:16.277534Z",
          "iopub.status.busy": "2024-12-15T17:38:16.277257Z",
          "iopub.status.idle": "2024-12-15T17:38:19.549496Z",
          "shell.execute_reply": "2024-12-15T17:38:19.548917Z",
          "shell.execute_reply.started": "2024-12-15T17:38:16.277503Z"
        },
        "exercise": [
          "ex19"
        ],
        "tags": [
          "graded"
        ],
        "id": "ISqZJcpDhGzZ",
        "outputId": "2593c1e1-d8f2-4676-da0c-058fb2e5b998",
        "colab": {
          "referenced_widgets": [
            "216699939aef4eb881c57833f7c890b0",
            ""
          ]
        }
      },
      "outputs": [
        {
          "data": {
            "application/vnd.jupyter.widget-view+json": {
              "model_id": "216699939aef4eb881c57833f7c890b0",
              "version_major": 2,
              "version_minor": 0
            },
            "text/plain": [
              "VBox()"
            ]
          },
          "metadata": {},
          "output_type": "display_data"
        },
        {
          "data": {
            "application/vnd.jupyter.widget-view+json": {
              "model_id": "",
              "version_major": 2,
              "version_minor": 0
            },
            "text/plain": [
              "FloatProgress(value=0.0, bar_style='info', description='Progress:', layout=Layout(height='25px', width='50%'),…"
            ]
          },
          "metadata": {},
          "output_type": "display_data"
        }
      ],
      "source": [
        "date_dim_df.write.jdbc(url=jdbc_url, table=\"classicmodels_star_schema.dim_date\", mode=\"overwrite\", properties=jdbc_properties)"
      ]
    },
    {
      "cell_type": "markdown",
      "metadata": {
        "id": "qoEiQFwJhGzZ"
      },
      "source": [
        "4.7.4. Check that your table was correctly stored in the schema:"
      ]
    },
    {
      "cell_type": "code",
      "execution_count": null,
      "metadata": {
        "execution": {
          "iopub.execute_input": "2024-12-15T17:38:19.550736Z",
          "iopub.status.busy": "2024-12-15T17:38:19.550552Z",
          "iopub.status.idle": "2024-12-15T17:38:20.322274Z",
          "shell.execute_reply": "2024-12-15T17:38:20.321557Z",
          "shell.execute_reply.started": "2024-12-15T17:38:19.550711Z"
        },
        "exercise": [
          "ex20"
        ],
        "tags": [
          "graded"
        ],
        "id": "jq-khJgChGzZ",
        "outputId": "98616eff-9990-42f2-db80-694356ee885b",
        "colab": {
          "referenced_widgets": [
            "75c576eb3403437fbf11e5b850298477",
            ""
          ]
        }
      },
      "outputs": [
        {
          "data": {
            "application/vnd.jupyter.widget-view+json": {
              "model_id": "75c576eb3403437fbf11e5b850298477",
              "version_major": 2,
              "version_minor": 0
            },
            "text/plain": [
              "VBox()"
            ]
          },
          "metadata": {},
          "output_type": "display_data"
        },
        {
          "data": {
            "application/vnd.jupyter.widget-view+json": {
              "model_id": "",
              "version_major": 2,
              "version_minor": 0
            },
            "text/plain": [
              "FloatProgress(value=0.0, bar_style='info', description='Progress:', layout=Layout(height='25px', width='50%'),…"
            ]
          },
          "metadata": {},
          "output_type": "display_data"
        },
        {
          "name": "stdout",
          "output_type": "stream",
          "text": [
            "dim_date column names:  ['date_day', 'day_of_week', 'day_of_month', 'day_of_year', 'week_of_year', 'month_of_year', 'year_number', 'month_name', 'quarter_of_year']\n",
            "dim_date number of rows:  1096"
          ]
        }
      ],
      "source": [
        "date_dim_df_check = spark.read.jdbc(url=jdbc_url, table=\"classicmodels_star_schema.dim_date\", properties=jdbc_properties)\n",
        "\n",
        "print(\"dim_date column names: \", date_dim_df_check.columns)\n",
        "\n",
        "dim_employees_row_count = date_dim_df_check.count()\n",
        "print(\"dim_date number of rows: \", dim_employees_row_count)"
      ]
    },
    {
      "cell_type": "markdown",
      "metadata": {
        "id": "QNAimQtJhGzZ"
      },
      "source": [
        "##### __Expected Output__\n",
        "\n",
        "```\n",
        "dim_date column names:  ['date_day', 'day_of_week', 'day_of_month', 'day_of_year', 'week_of_year', 'month_of_year', 'year_number', 'month_name', 'quarter_of_year']\n",
        "dim_date number of rows:  1096\n",
        "```"
      ]
    },
    {
      "cell_type": "markdown",
      "metadata": {
        "id": "YdD8oZr8hGzZ"
      },
      "source": [
        "<a name='4.8'></a>\n",
        "### 4.8 - Fact Table\n",
        "\n",
        "Finally, let's create the orders fact table. Remember that the fact table stores the surrogate keys to the dimensional tables and the numerical facts related to the business process.\n",
        "\n",
        "There has been a change in the model compared to the Week 1 assignment. You will add two new facts:\n",
        "\n",
        "- `profit`: metric calculated by subtracting the price of the product as we sell by the price we bought the product at.\n",
        "- `discount_percentage`: metric calculated by subtracting the MSRP of a product from the selling price, dividing the result by the same MSRP and then multiplying the result by 100."
      ]
    },
    {
      "cell_type": "markdown",
      "metadata": {
        "id": "tcfdlmtshGzZ"
      },
      "source": [
        "4.8.1. Here is the statement to bring all the relevant columns and create the data model into the `fact_table_df` dataframe. There are also corresponding operations to add the missing calculated columns."
      ]
    },
    {
      "cell_type": "code",
      "execution_count": null,
      "metadata": {
        "execution": {
          "iopub.execute_input": "2024-12-15T17:38:32.461758Z",
          "iopub.status.busy": "2024-12-15T17:38:32.461499Z",
          "iopub.status.idle": "2024-12-15T17:38:32.726432Z",
          "shell.execute_reply": "2024-12-15T17:38:32.725848Z",
          "shell.execute_reply.started": "2024-12-15T17:38:32.461729Z"
        },
        "exercise": [
          "ex21"
        ],
        "tags": [
          "graded"
        ],
        "id": "ZEc9O0ZxhGzZ",
        "outputId": "049f81cb-4bc6-4d84-d91a-78aa16ed3a08",
        "colab": {
          "referenced_widgets": [
            "9ddf8ed550b44e84a033bfd3319f53d6",
            ""
          ]
        }
      },
      "outputs": [
        {
          "data": {
            "application/vnd.jupyter.widget-view+json": {
              "model_id": "9ddf8ed550b44e84a033bfd3319f53d6",
              "version_major": 2,
              "version_minor": 0
            },
            "text/plain": [
              "VBox()"
            ]
          },
          "metadata": {},
          "output_type": "display_data"
        },
        {
          "data": {
            "application/vnd.jupyter.widget-view+json": {
              "model_id": "",
              "version_major": 2,
              "version_minor": 0
            },
            "text/plain": [
              "FloatProgress(value=0.0, bar_style='info', description='Progress:', layout=Layout(height='25px', width='50%'),…"
            ]
          },
          "metadata": {},
          "output_type": "display_data"
        }
      ],
      "source": [
        "select_query_fact = \"\"\"\n",
        "SELECT\n",
        "    orders.orderNumber,\n",
        "    cast(orderdetails.orderLineNumber as string) as order_line_number,\n",
        "    cast(orders.customerNumber as string) as customer_number,\n",
        "    cast(employees.employeeNumber as string) as employee_number,\n",
        "    offices.officeCode,\n",
        "    orderdetails.productCode,\n",
        "    orders.orderDate as order_date,\n",
        "    orders.requiredDate as order_required_date,\n",
        "    orders.shippedDate as order_shipped_date,\n",
        "    orderdetails.quantityOrdered as quantity_ordered,\n",
        "    orderdetails.priceEach as product_price,\n",
        "    (orderdetails.priceEach - products.buyPrice) as profit,\n",
        "    (products.msrp - orderdetails.priceEach)/products.msrp * 100 as discount_percentage\n",
        "FROM orders\n",
        "JOIN orderdetails ON orders.orderNumber = orderdetails.orderNumber\n",
        "JOIN customers ON orders.customerNumber = customers.customerNumber\n",
        "JOIN employees ON customers.salesRepEmployeeNumber = employees.employeeNumber\n",
        "JOIN offices ON employees.officeCode = offices.officeCode\n",
        "JOIN products ON products.productCode = orderdetails.productCode\n",
        "\"\"\";\n",
        "\n",
        "fact_table_df = spark.sql(select_query_fact)"
      ]
    },
    {
      "cell_type": "markdown",
      "metadata": {
        "id": "_-WraPethGzZ"
      },
      "source": [
        "4.8.2. Add the calculated facts and the required surrogate keys. Use function `surrogateUDF()` passing an array based on:\n",
        "- `customer_number` for the `customer_key`,\n",
        "- `employee_number` for the `employee_key`,\n",
        "- `officeCode` for the `office_key`,\n",
        "- `productCode` for the `product_key`."
      ]
    },
    {
      "cell_type": "code",
      "execution_count": null,
      "metadata": {
        "execution": {
          "iopub.execute_input": "2024-12-15T17:40:58.607973Z",
          "iopub.status.busy": "2024-12-15T17:40:58.607730Z",
          "iopub.status.idle": "2024-12-15T17:40:58.869116Z",
          "shell.execute_reply": "2024-12-15T17:40:58.868496Z",
          "shell.execute_reply.started": "2024-12-15T17:40:58.607946Z"
        },
        "exercise": [
          "ex22"
        ],
        "tags": [
          "graded"
        ],
        "id": "t58tsvwFhGzZ",
        "outputId": "813f86cd-56b0-4fd9-91c9-8a712d6013ce",
        "colab": {
          "referenced_widgets": [
            "9302a26d31fb4062b38fc7e970fe7773",
            ""
          ]
        }
      },
      "outputs": [
        {
          "data": {
            "application/vnd.jupyter.widget-view+json": {
              "model_id": "9302a26d31fb4062b38fc7e970fe7773",
              "version_major": 2,
              "version_minor": 0
            },
            "text/plain": [
              "VBox()"
            ]
          },
          "metadata": {},
          "output_type": "display_data"
        },
        {
          "data": {
            "application/vnd.jupyter.widget-view+json": {
              "model_id": "",
              "version_major": 2,
              "version_minor": 0
            },
            "text/plain": [
              "FloatProgress(value=0.0, bar_style='info', description='Progress:', layout=Layout(height='25px', width='50%'),…"
            ]
          },
          "metadata": {},
          "output_type": "display_data"
        }
      ],
      "source": [
        "fact_table_df = fact_table_df.withColumn(\"fact_order_key\", surrogateUDF(array(\"orderNumber\", \"order_line_number\")))\\\n",
        ".withColumn(\"customer_key\", surrogateUDF(array(\"customer_number\")))\\\n",
        ".withColumn(\"employee_key\", surrogateUDF(array(\"employee_number\")))\\\n",
        ".withColumn(\"office_key\", surrogateUDF(array(\"officeCode\")))\\\n",
        ".withColumn(\"product_key\", surrogateUDF(array(\"productCode\")))\\\n",
        ".select([\"fact_order_key\",\"customer_key\",\"employee_key\",\"office_key\",\"product_key\",\"order_date\",\"order_required_date\",\"order_shipped_date\",\"quantity_ordered\",\"product_price\",\"profit\",\"discount_percentage\"])"
      ]
    },
    {
      "cell_type": "markdown",
      "metadata": {
        "id": "2NSw8ByBhGzZ"
      },
      "source": [
        "4.8.3. Store the result in the `fact_orders` table in your database `classicmodels_star_schema`."
      ]
    },
    {
      "cell_type": "code",
      "execution_count": null,
      "metadata": {
        "execution": {
          "iopub.execute_input": "2024-12-15T17:41:14.910068Z",
          "iopub.status.busy": "2024-12-15T17:41:14.909835Z",
          "iopub.status.idle": "2024-12-15T17:41:44.285240Z",
          "shell.execute_reply": "2024-12-15T17:41:44.284544Z",
          "shell.execute_reply.started": "2024-12-15T17:41:14.910042Z"
        },
        "exercise": [
          "ex23"
        ],
        "tags": [
          "graded"
        ],
        "id": "mvbVUYrnhGzZ",
        "outputId": "c5c6dd44-8d0d-4f1a-bbe4-b7747b01975f",
        "colab": {
          "referenced_widgets": [
            "7f733524337840c1b9c5870296055698",
            ""
          ]
        }
      },
      "outputs": [
        {
          "data": {
            "application/vnd.jupyter.widget-view+json": {
              "model_id": "7f733524337840c1b9c5870296055698",
              "version_major": 2,
              "version_minor": 0
            },
            "text/plain": [
              "VBox()"
            ]
          },
          "metadata": {},
          "output_type": "display_data"
        },
        {
          "data": {
            "application/vnd.jupyter.widget-view+json": {
              "model_id": "",
              "version_major": 2,
              "version_minor": 0
            },
            "text/plain": [
              "FloatProgress(value=0.0, bar_style='info', description='Progress:', layout=Layout(height='25px', width='50%'),…"
            ]
          },
          "metadata": {},
          "output_type": "display_data"
        }
      ],
      "source": [
        "fact_table_df.write.jdbc(url=jdbc_url, table=\"classicmodels_star_schema.fact_orders\", mode=\"overwrite\", properties=jdbc_properties)"
      ]
    },
    {
      "cell_type": "markdown",
      "metadata": {
        "id": "2Ng-63Y7hGzZ"
      },
      "source": [
        "4.8.4. Check that your table was correctly stored in the schema:"
      ]
    },
    {
      "cell_type": "code",
      "execution_count": null,
      "metadata": {
        "execution": {
          "iopub.execute_input": "2024-12-15T17:41:44.286514Z",
          "iopub.status.busy": "2024-12-15T17:41:44.286336Z",
          "iopub.status.idle": "2024-12-15T17:41:44.614137Z",
          "shell.execute_reply": "2024-12-15T17:41:44.613308Z",
          "shell.execute_reply.started": "2024-12-15T17:41:44.286491Z"
        },
        "exercise": [
          "ex24"
        ],
        "tags": [
          "graded"
        ],
        "id": "uiAYjf5rhGzZ",
        "outputId": "22d31d4e-6628-4299-8ff9-74c0138732ba",
        "colab": {
          "referenced_widgets": [
            "9baf0e19197448a0abb32bd0b935ed6f",
            ""
          ]
        }
      },
      "outputs": [
        {
          "data": {
            "application/vnd.jupyter.widget-view+json": {
              "model_id": "9baf0e19197448a0abb32bd0b935ed6f",
              "version_major": 2,
              "version_minor": 0
            },
            "text/plain": [
              "VBox()"
            ]
          },
          "metadata": {},
          "output_type": "display_data"
        },
        {
          "data": {
            "application/vnd.jupyter.widget-view+json": {
              "model_id": "",
              "version_major": 2,
              "version_minor": 0
            },
            "text/plain": [
              "FloatProgress(value=0.0, bar_style='info', description='Progress:', layout=Layout(height='25px', width='50%'),…"
            ]
          },
          "metadata": {},
          "output_type": "display_data"
        },
        {
          "name": "stdout",
          "output_type": "stream",
          "text": [
            "fact_orders column names:  ['fact_order_key', 'customer_key', 'employee_key', 'office_key', 'product_key', 'order_date', 'order_required_date', 'order_shipped_date', 'quantity_ordered', 'product_price', 'profit', 'discount_percentage']\n",
            "fact_orders number of rows:  2996"
          ]
        }
      ],
      "source": [
        "fact_table_df_check = spark.read.jdbc(url=jdbc_url, table=\"classicmodels_star_schema.fact_orders\", properties=jdbc_properties)\n",
        "\n",
        "print(\"fact_orders column names: \", fact_table_df_check.columns)\n",
        "\n",
        "fact_table_row_count = fact_table_df_check.count()\n",
        "print(\"fact_orders number of rows: \", fact_table_row_count)"
      ]
    },
    {
      "cell_type": "markdown",
      "metadata": {
        "id": "uivzZqAZhGzZ"
      },
      "source": [
        "##### __Expected Output__\n",
        "\n",
        "```\n",
        "fact_orders column names:  ['fact_order_key', 'customer_key', 'employee_key', 'office_key', 'product_key', 'order_date', 'order_required_date', 'order_shipped_date', 'quantity_ordered', 'product_price', 'profit', 'discount_percentage']\n",
        "fact_orders number of rows:  2996\n",
        "```"
      ]
    },
    {
      "cell_type": "markdown",
      "metadata": {
        "id": "lP3ux0gphGzZ"
      },
      "source": [
        "4.8.5. Finally, print out your schema:"
      ]
    },
    {
      "cell_type": "code",
      "execution_count": null,
      "metadata": {
        "execution": {
          "iopub.execute_input": "2024-12-15T17:41:44.615504Z",
          "iopub.status.busy": "2024-12-15T17:41:44.615332Z",
          "iopub.status.idle": "2024-12-15T17:41:44.676249Z",
          "shell.execute_reply": "2024-12-15T17:41:44.675593Z",
          "shell.execute_reply.started": "2024-12-15T17:41:44.615481Z"
        },
        "exercise": [
          "ex25"
        ],
        "tags": [
          "graded"
        ],
        "id": "VEYqMmxGhGza",
        "outputId": "95fab6d1-a621-493f-dc72-41d0dd768bbf",
        "colab": {
          "referenced_widgets": [
            "5a89859df68646f38d00a87fc5d45b6d",
            ""
          ]
        }
      },
      "outputs": [
        {
          "data": {
            "application/vnd.jupyter.widget-view+json": {
              "model_id": "5a89859df68646f38d00a87fc5d45b6d",
              "version_major": 2,
              "version_minor": 0
            },
            "text/plain": [
              "VBox()"
            ]
          },
          "metadata": {},
          "output_type": "display_data"
        },
        {
          "data": {
            "application/vnd.jupyter.widget-view+json": {
              "model_id": "",
              "version_major": 2,
              "version_minor": 0
            },
            "text/plain": [
              "FloatProgress(value=0.0, bar_style='info', description='Progress:', layout=Layout(height='25px', width='50%'),…"
            ]
          },
          "metadata": {},
          "output_type": "display_data"
        },
        {
          "name": "stdout",
          "output_type": "stream",
          "text": [
            "root\n",
            " |-- fact_order_key: string (nullable = true)\n",
            " |-- customer_key: string (nullable = true)\n",
            " |-- employee_key: string (nullable = true)\n",
            " |-- office_key: string (nullable = true)\n",
            " |-- product_key: string (nullable = true)\n",
            " |-- order_date: timestamp (nullable = true)\n",
            " |-- order_required_date: timestamp (nullable = true)\n",
            " |-- order_shipped_date: timestamp (nullable = true)\n",
            " |-- quantity_ordered: integer (nullable = true)\n",
            " |-- product_price: decimal(38,18) (nullable = true)\n",
            " |-- profit: decimal(38,17) (nullable = true)\n",
            " |-- discount_percentage: decimal(38,6) (nullable = true)"
          ]
        }
      ],
      "source": [
        "fact_table_df.printSchema()"
      ]
    },
    {
      "cell_type": "markdown",
      "metadata": {
        "id": "glT4mG0DhGza"
      },
      "source": [
        "##### __Expected Output__\n",
        "\n",
        "```\n",
        "root\n",
        " |-- fact_order_key: string (nullable = true)\n",
        " |-- customer_key: string (nullable = true)\n",
        " |-- employee_key: string (nullable = true)\n",
        " |-- office_key: string (nullable = true)\n",
        " |-- product_key: string (nullable = true)\n",
        " |-- order_date: timestamp (nullable = true)\n",
        " |-- order_required_date: timestamp (nullable = true)\n",
        " |-- order_shipped_date: timestamp (nullable = true)\n",
        " |-- quantity_ordered: integer (nullable = true)\n",
        " |-- product_price: decimal(38,18) (nullable = true)\n",
        " |-- profit: decimal(38,17) (nullable = true)\n",
        " |-- discount_percentage: decimal(38,6) (nullable = true)\n",
        "```"
      ]
    },
    {
      "cell_type": "markdown",
      "metadata": {
        "id": "oOFWN0lEhGza"
      },
      "source": [
        "In this lab, you have explored basic data transformation using Apache Spark, focusing on the capabilities of their Python API (PySpark) and Spark SQL. These tools are essential for data engineers, offering powerful and efficient methods for manipulating large datasets. Spark offers rich APIs and tools for data transformations, one of them being Spark SQL, which enables querying of structured data with SQL-like syntax. Although this dataset isn't particularly large, the same principles apply to larger data sources due to data parallelism."
      ]
    },
    {
      "cell_type": "markdown",
      "metadata": {
        "id": "ePXecAtChGza"
      },
      "source": [
        "<a name='5'></a>\n",
        "## 5 - Upload Files for Grading\n",
        "\n",
        "Upload the notebook into S3 bucket for grading purposes.\n",
        "\n",
        "*Note*: you may need to click **Save** button before the upload.\n",
        "\n",
        "In your AWS console, search again for **CloudShell** and click on it. Once the terminal is ready, execute the following two commands to upload your notebook:\n",
        "\n",
        "```bash\n",
        "export ACCOUNT_ID=$(aws sts get-caller-identity --query Account --output text)\n",
        "\n",
        "aws s3 cp s3://de-c4w3a1-$ACCOUNT_ID-us-east-1-emr-bucket/emr-studio/$(aws s3 ls s3://de-c4w3a1-$ACCOUNT_ID-us-east-1-emr-bucket/emr-studio --recursive | grep -o \"e-[^/]*\" | head -n 1)/C4_W3_Assignment.ipynb s3://de-c4w3a1-$ACCOUNT_ID-us-east-1-submission/C4_W3_Assignment_Learner.ipynb\n",
        "```"
      ]
    }
  ],
  "metadata": {
    "kernelspec": {
      "display_name": "PySpark",
      "language": "python",
      "name": "pysparkkernel"
    },
    "language_info": {
      "codemirror_mode": {
        "name": "python",
        "version": 3
      },
      "file_extension": ".py",
      "mimetype": "text/x-python",
      "name": "pyspark",
      "pygments_lexer": "python3"
    },
    "colab": {
      "provenance": [],
      "toc_visible": true
    }
  },
  "nbformat": 4,
  "nbformat_minor": 0
}